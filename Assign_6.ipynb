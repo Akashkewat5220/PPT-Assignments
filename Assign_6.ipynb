{
 "cells": [
  {
   "cell_type": "markdown",
   "id": "b79cc4b8-ff7a-4757-9174-b066523f8569",
   "metadata": {},
   "source": [
    "# Answer 1"
   ]
  },
  {
   "cell_type": "code",
   "execution_count": 2,
   "id": "40bda9d3-7d04-4a24-89ce-4951abb7712a",
   "metadata": {},
   "outputs": [],
   "source": [
    "def findPermutation(s):\n",
    "    n = len(s)\n",
    "    perm = []\n",
    "    low, high = 0, n\n",
    "\n",
    "    for c in s:\n",
    "        if c == 'I':\n",
    "            perm.append(low)\n",
    "            low += 1\n",
    "        elif c == 'D':\n",
    "            perm.append(high)\n",
    "            high -= 1\n",
    "\n",
    "    perm.append(low)  # or perm.append(high), since both low and high are the same at this point\n",
    "    return perm\n"
   ]
  },
  {
   "cell_type": "code",
   "execution_count": 3,
   "id": "9750fa09-be1a-432c-b467-7ca6ba640271",
   "metadata": {},
   "outputs": [
    {
     "name": "stdout",
     "output_type": "stream",
     "text": [
      "[0, 4, 1, 3, 2]\n"
     ]
    }
   ],
   "source": [
    "s = \"IDID\"\n",
    "result = findPermutation(s)\n",
    "print(result)\n"
   ]
  },
  {
   "cell_type": "code",
   "execution_count": null,
   "id": "b4603486-b0aa-470a-bdbd-10bb3b413b92",
   "metadata": {},
   "outputs": [],
   "source": []
  },
  {
   "cell_type": "markdown",
   "id": "b3d294b6-37f7-40e5-be29-af3100900f89",
   "metadata": {},
   "source": [
    "# ANSWER 2"
   ]
  },
  {
   "cell_type": "code",
   "execution_count": 4,
   "id": "c205078d-0fb3-46a1-862b-d1bfa89ff5e4",
   "metadata": {},
   "outputs": [
    {
     "name": "stdout",
     "output_type": "stream",
     "text": [
      "True\n"
     ]
    }
   ],
   "source": [
    "class Solution(object):\n",
    "    def searchMatrix(self, matrix, target):\n",
    "        \"\"\"\n",
    "        :type matrix: List[List[int]]\n",
    "        :type target: int\n",
    "        :rtype: bool\n",
    "        \"\"\"\n",
    "        m = len(matrix)\n",
    "        if m == 0:\n",
    "            return False\n",
    "        n = len(matrix[0])\n",
    "\n",
    "        left, right = 0, m * n - 1\n",
    "        while left <= right:\n",
    "            mid = left + (right - left) // 2\n",
    "            mid_element = matrix[mid // n][mid % n]\n",
    "            if target == mid_element:\n",
    "                return True\n",
    "            elif target < mid_element:\n",
    "                right = mid - 1\n",
    "            else:\n",
    "                left = mid + 1\n",
    "        return False\n",
    "\n",
    "\n",
    "matrix = [[1, 3, 5, 7], [10, 11, 16, 20], [23, 30, 34, 60]]\n",
    "target = 3\n",
    "\n",
    "solution = Solution()\n",
    "result = solution.searchMatrix(matrix, target)\n",
    "print(result)\n"
   ]
  },
  {
   "cell_type": "code",
   "execution_count": null,
   "id": "871d92dd-9303-413a-a63b-cdc605920fba",
   "metadata": {},
   "outputs": [],
   "source": []
  },
  {
   "cell_type": "markdown",
   "id": "63fd6afa-6495-4146-856f-6c184a3f2f19",
   "metadata": {},
   "source": [
    "# ANSWER 4"
   ]
  },
  {
   "cell_type": "code",
   "execution_count": 6,
   "id": "6bc1aac6-c457-4cb1-a4bf-2d80287df69b",
   "metadata": {},
   "outputs": [],
   "source": [
    "def find_max_length(nums):\n",
    "    max_length = 0\n",
    "    count = 0\n",
    "    count_map = {0: -1}  # Initialize the map with a count of 0 at index -1\n",
    "\n",
    "    for i in range(len(nums)):\n",
    "        # Increment the count by 1 for every 1 encountered, and decrement by 1 for every 0 encountered\n",
    "        count += 1 if nums[i] == 1 else -1\n",
    "\n",
    "        if count in count_map:\n",
    "            # If the count is already in the map, calculate the length of the subarray and update the max_length if necessary\n",
    "            max_length = max(max_length, i - count_map[count])\n",
    "        else:\n",
    "            # If the count is not in the map, add it along with its current index\n",
    "            count_map[count] = i\n",
    "\n",
    "    return max_length\n"
   ]
  },
  {
   "cell_type": "code",
   "execution_count": 7,
   "id": "0b43e002-faa0-41e3-a5ae-c4004aac6e59",
   "metadata": {},
   "outputs": [
    {
     "name": "stdout",
     "output_type": "stream",
     "text": [
      "2\n"
     ]
    }
   ],
   "source": [
    "nums = [0, 1]\n",
    "max_length = find_max_length(nums)\n",
    "print(max_length)\n"
   ]
  },
  {
   "cell_type": "code",
   "execution_count": null,
   "id": "713f8ef4-1ad8-4754-b38b-53e95541a401",
   "metadata": {},
   "outputs": [],
   "source": []
  },
  {
   "cell_type": "markdown",
   "id": "dcfaf769-e9e5-4b84-886e-ce177f7fbf9e",
   "metadata": {},
   "source": [
    "# ANSWER 7"
   ]
  },
  {
   "cell_type": "code",
   "execution_count": 4,
   "id": "ca0d2669-f354-4283-a5fb-6b5479a773ff",
   "metadata": {},
   "outputs": [],
   "source": [
    "def generate_spiral_matrix(n):\n",
    "    # Create an empty matrix\n",
    "    matrix = [[0] * n for _ in range(n)]\n",
    "\n",
    "    # Define the boundaries of the matrix\n",
    "    top = 0\n",
    "    bottom = n - 1\n",
    "    left = 0\n",
    "    right = n - 1\n",
    "\n",
    "    # Define the current value to be filled in the matrix\n",
    "    value = 1\n",
    "\n",
    "    # Fill the matrix in a spiral order\n",
    "    while top <= bottom and left <= right:\n",
    "        # Fill the top row\n",
    "        for i in range(left, right + 1):\n",
    "            matrix[top][i] = value\n",
    "            value += 1\n",
    "        top += 1\n",
    "\n",
    "        # Fill the right column\n",
    "        for i in range(top, bottom + 1):\n",
    "            matrix[i][right] = value\n",
    "            value += 1\n",
    "        right -= 1\n",
    "\n",
    "        # Fill the bottom row\n",
    "        for i in range(right, left - 1, -1):\n",
    "            matrix[bottom][i] = value\n",
    "            value += 1\n",
    "        bottom -= 1\n",
    "\n",
    "        # Fill the left column\n",
    "        for i in range(bottom, top - 1, -1):\n",
    "            matrix[i][left] = value\n",
    "            value += 1\n",
    "        left += 1\n",
    "\n",
    "    return matrix\n"
   ]
  },
  {
   "cell_type": "code",
   "execution_count": 5,
   "id": "44411a33-1057-4a59-a182-a9b7bc0b3e28",
   "metadata": {},
   "outputs": [
    {
     "name": "stdout",
     "output_type": "stream",
     "text": [
      "[1, 2, 3]\n",
      "[8, 9, 4]\n",
      "[7, 6, 5]\n"
     ]
    }
   ],
   "source": [
    "n = 3\n",
    "matrix = generate_spiral_matrix(n)\n",
    "for row in matrix:\n",
    "    print(row)\n"
   ]
  },
  {
   "cell_type": "code",
   "execution_count": null,
   "id": "9198950b-1ac4-436a-80dd-13e71be0a393",
   "metadata": {},
   "outputs": [],
   "source": []
  },
  {
   "cell_type": "markdown",
   "id": "5a366227-3c7a-4d8e-ab66-a97c23d8e768",
   "metadata": {},
   "source": [
    "# ANSWER 8"
   ]
  },
  {
   "cell_type": "code",
   "execution_count": 2,
   "id": "e3bcf606-df8d-4eb6-a8b0-1362f8c8ffa3",
   "metadata": {},
   "outputs": [],
   "source": [
    "from collections import defaultdict\n",
    "\n",
    "def multiply_sparse_matrices(mat1, mat2):\n",
    "    m, k = len(mat1), len(mat1[0])\n",
    "    n = len(mat2[0])\n",
    "\n",
    "    result = [[0] * n for _ in range(m)]\n",
    "\n",
    "    # Convert mat1 to dictionary of non-zero values\n",
    "    sparse_mat1 = defaultdict(dict)\n",
    "    for i in range(m):\n",
    "        for j in range(k):\n",
    "            if mat1[i][j] != 0:\n",
    "                sparse_mat1[i][j] = mat1[i][j]\n",
    "\n",
    "    # Multiply sparse matrices\n",
    "    for i in range(m):\n",
    "        for j in range(n):\n",
    "            dot_product = 0\n",
    "            for l in range(k):\n",
    "                if l in sparse_mat1[i] and mat2[l][j] != 0:\n",
    "                    dot_product += sparse_mat1[i][l] * mat2[l][j]\n",
    "            result[i][j] = dot_product\n",
    "\n",
    "    return result\n"
   ]
  },
  {
   "cell_type": "code",
   "execution_count": 3,
   "id": "7462b602-1391-4674-8815-1458182d38f1",
   "metadata": {},
   "outputs": [
    {
     "name": "stdout",
     "output_type": "stream",
     "text": [
      "[[7, 0, 0], [-7, 0, 3]]\n"
     ]
    }
   ],
   "source": [
    "mat1 = [[1, 0, 0],\n",
    "        [-1, 0, 3]]\n",
    "\n",
    "mat2 = [[7, 0, 0],\n",
    "        [0, 0, 0],\n",
    "        [0, 0, 1]]\n",
    "\n",
    "result = multiply_sparse_matrices(mat1, mat2)\n",
    "print(result)\n"
   ]
  },
  {
   "cell_type": "code",
   "execution_count": null,
   "id": "d824b1e5-7c2b-40cf-a96d-72b4b16d3843",
   "metadata": {},
   "outputs": [],
   "source": []
  },
  {
   "cell_type": "code",
   "execution_count": null,
   "id": "81ab2e86-b313-404e-a81c-c9598fa12ea8",
   "metadata": {},
   "outputs": [],
   "source": []
  },
  {
   "cell_type": "code",
   "execution_count": null,
   "id": "b87531d1-da40-499b-8c67-975014ec9375",
   "metadata": {},
   "outputs": [],
   "source": []
  },
  {
   "cell_type": "code",
   "execution_count": null,
   "id": "7da77c8c-2626-44a6-8870-7ea9b7dd648a",
   "metadata": {},
   "outputs": [],
   "source": []
  },
  {
   "cell_type": "code",
   "execution_count": null,
   "id": "05e87bbc-aec0-4b5f-bb8f-c6782253f808",
   "metadata": {},
   "outputs": [],
   "source": []
  },
  {
   "cell_type": "code",
   "execution_count": null,
   "id": "9539f600-5704-441a-9c98-8915e1f8d7d1",
   "metadata": {},
   "outputs": [],
   "source": []
  },
  {
   "cell_type": "code",
   "execution_count": null,
   "id": "4553d6a1-4961-41c5-8cbf-d5ef8b362e6c",
   "metadata": {},
   "outputs": [],
   "source": []
  },
  {
   "cell_type": "code",
   "execution_count": null,
   "id": "c77728d4-5c9f-4538-b71e-0cf340c7d2f8",
   "metadata": {},
   "outputs": [],
   "source": []
  },
  {
   "cell_type": "code",
   "execution_count": null,
   "id": "e4cc4b78-48b7-4854-a158-afeae91dd2fc",
   "metadata": {},
   "outputs": [],
   "source": []
  },
  {
   "cell_type": "code",
   "execution_count": null,
   "id": "98705d18-b502-4baf-b477-b174684eb83d",
   "metadata": {},
   "outputs": [],
   "source": []
  }
 ],
 "metadata": {
  "kernelspec": {
   "display_name": "Python 3 (ipykernel)",
   "language": "python",
   "name": "python3"
  },
  "language_info": {
   "codemirror_mode": {
    "name": "ipython",
    "version": 3
   },
   "file_extension": ".py",
   "mimetype": "text/x-python",
   "name": "python",
   "nbconvert_exporter": "python",
   "pygments_lexer": "ipython3",
   "version": "3.10.6"
  }
 },
 "nbformat": 4,
 "nbformat_minor": 5
}
