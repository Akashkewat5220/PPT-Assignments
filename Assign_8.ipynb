{
 "cells": [
  {
   "cell_type": "markdown",
   "id": "694c457b-29e3-4de5-b9ce-746a6c6c59a5",
   "metadata": {},
   "source": [
    "3"
   ]
  },
  {
   "cell_type": "code",
   "execution_count": 3,
   "id": "62cb1d5e-5af8-4a36-865a-09ca78941814",
   "metadata": {},
   "outputs": [
    {
     "name": "stdout",
     "output_type": "stream",
     "text": [
      "2\n"
     ]
    }
   ],
   "source": [
    "def min_steps_to_equal(word1, word2):\n",
    "    m, n = len(word1), len(word2)\n",
    "\n",
    "    # Create a 2D array to store the minimum number of steps\n",
    "    dp = [[0] * (n + 1) for _ in range(m + 1)]\n",
    "\n",
    "    # Fill the dp array using dynamic programming\n",
    "    for i in range(1, m + 1):\n",
    "        dp[i][0] = dp[i - 1][0] + 1\n",
    "\n",
    "    for j in range(1, n + 1):\n",
    "        dp[0][j] = dp[0][j - 1] + 1\n",
    "\n",
    "    for i in range(1, m + 1):\n",
    "        for j in range(1, n + 1):\n",
    "            if word1[i - 1] == word2[j - 1]:\n",
    "                dp[i][j] = dp[i - 1][j - 1]\n",
    "            else:\n",
    "                dp[i][j] = min(dp[i - 1][j], dp[i][j - 1]) + 1\n",
    "\n",
    "    return dp[m][n]\n",
    "\n",
    "# Test example\n",
    "word1 = \"sea\"\n",
    "word2 = \"eat\"\n",
    "print(min_steps_to_equal(word1, word2))  # Output: 2\n"
   ]
  },
  {
   "cell_type": "code",
   "execution_count": null,
   "id": "731bb3e5-0c78-4414-a6d6-47d1f76ec7d5",
   "metadata": {},
   "outputs": [],
   "source": []
  },
  {
   "cell_type": "markdown",
   "id": "9075857b-e621-4f78-b623-7bce92ab6115",
   "metadata": {},
   "source": [
    "6"
   ]
  },
  {
   "cell_type": "code",
   "execution_count": 4,
   "id": "e676ffcd-c001-46fe-aa88-d88e33bf011b",
   "metadata": {},
   "outputs": [
    {
     "name": "stdout",
     "output_type": "stream",
     "text": [
      "[0, 6]\n"
     ]
    }
   ],
   "source": [
    "from collections import Counter\n",
    "\n",
    "def find_anagrams(s, p):\n",
    "    result = []\n",
    "    p_len = len(p)\n",
    "    s_len = len(s)\n",
    "\n",
    "    # Base case\n",
    "    if p_len > s_len:\n",
    "        return result\n",
    "\n",
    "    p_freq = Counter(p)\n",
    "    s_freq = Counter(s[:p_len])\n",
    "\n",
    "    if s_freq == p_freq:\n",
    "        result.append(0)\n",
    "\n",
    "    # Sliding window approach\n",
    "    for i in range(p_len, s_len):\n",
    "        s_freq[s[i-p_len]] -= 1\n",
    "        if s_freq[s[i-p_len]] == 0:\n",
    "            del s_freq[s[i-p_len]]\n",
    "\n",
    "        s_freq[s[i]] += 1\n",
    "\n",
    "        if s_freq == p_freq:\n",
    "            result.append(i - p_len + 1)\n",
    "\n",
    "    return result\n",
    "\n",
    "# Test example\n",
    "s = \"cbaebabacd\"\n",
    "p = \"abc\"\n",
    "print(find_anagrams(s, p))  # Output: [0, 6]\n"
   ]
  },
  {
   "cell_type": "code",
   "execution_count": null,
   "id": "05271079-fa47-41e8-b710-edfb57321700",
   "metadata": {},
   "outputs": [],
   "source": []
  },
  {
   "cell_type": "code",
   "execution_count": null,
   "id": "ad7d978c-0d39-4e27-b604-8473e8a528d3",
   "metadata": {},
   "outputs": [],
   "source": []
  },
  {
   "cell_type": "code",
   "execution_count": null,
   "id": "dae49f04-db61-4301-ae7e-950bb8b0c72e",
   "metadata": {},
   "outputs": [],
   "source": []
  },
  {
   "cell_type": "code",
   "execution_count": null,
   "id": "1c107d7a-5aa5-4249-92a9-f08b04920457",
   "metadata": {},
   "outputs": [],
   "source": []
  },
  {
   "cell_type": "code",
   "execution_count": null,
   "id": "3bf01eb2-7a7b-45f9-a0ca-dd6cad5d1592",
   "metadata": {},
   "outputs": [],
   "source": []
  },
  {
   "cell_type": "code",
   "execution_count": null,
   "id": "63b698ec-97b2-4d2d-bf22-6c2aa82fb2e3",
   "metadata": {},
   "outputs": [],
   "source": []
  },
  {
   "cell_type": "code",
   "execution_count": null,
   "id": "794e534e-1003-47e4-aa14-d45cf8d653d3",
   "metadata": {},
   "outputs": [],
   "source": []
  },
  {
   "cell_type": "code",
   "execution_count": null,
   "id": "bf897ef1-19ad-4ec9-bef9-7532f523835b",
   "metadata": {},
   "outputs": [],
   "source": []
  },
  {
   "cell_type": "code",
   "execution_count": null,
   "id": "86e340f2-dbf2-47d3-a8c9-fd9f64bd7cd3",
   "metadata": {},
   "outputs": [],
   "source": []
  },
  {
   "cell_type": "code",
   "execution_count": null,
   "id": "fee95479-9261-4b2a-8ab8-7a3b2abba4e3",
   "metadata": {},
   "outputs": [],
   "source": []
  },
  {
   "cell_type": "code",
   "execution_count": null,
   "id": "1c23c30d-4aa5-4020-9bd8-4cbbe6f5d15b",
   "metadata": {},
   "outputs": [],
   "source": []
  },
  {
   "cell_type": "code",
   "execution_count": null,
   "id": "c50f0785-7664-430d-b8fa-c4da3f7eca9f",
   "metadata": {},
   "outputs": [],
   "source": []
  },
  {
   "cell_type": "code",
   "execution_count": null,
   "id": "6ecba308-c0ff-4787-867c-0f15fa8fca2f",
   "metadata": {},
   "outputs": [],
   "source": []
  },
  {
   "cell_type": "code",
   "execution_count": null,
   "id": "272007ad-f1d6-4646-a24c-2a4997371fbe",
   "metadata": {},
   "outputs": [],
   "source": []
  },
  {
   "cell_type": "code",
   "execution_count": null,
   "id": "0083b50f-64be-4d9b-b21a-1c824194a638",
   "metadata": {},
   "outputs": [],
   "source": []
  },
  {
   "cell_type": "code",
   "execution_count": null,
   "id": "d726bf57-af95-4381-9aa9-bdcd1c4ddf3f",
   "metadata": {},
   "outputs": [],
   "source": []
  },
  {
   "cell_type": "code",
   "execution_count": null,
   "id": "81af35f3-879e-4d0a-9173-60e1940ec604",
   "metadata": {},
   "outputs": [],
   "source": []
  },
  {
   "cell_type": "code",
   "execution_count": null,
   "id": "b130e4c8-acb5-433d-af21-7b2a629da730",
   "metadata": {},
   "outputs": [],
   "source": []
  },
  {
   "cell_type": "code",
   "execution_count": null,
   "id": "7018807c-afdc-4435-9550-60819a364f3a",
   "metadata": {},
   "outputs": [],
   "source": []
  },
  {
   "cell_type": "code",
   "execution_count": null,
   "id": "2cf21953-5677-4f45-a11e-d6ee6677ac3b",
   "metadata": {},
   "outputs": [],
   "source": []
  }
 ],
 "metadata": {
  "kernelspec": {
   "display_name": "Python 3 (ipykernel)",
   "language": "python",
   "name": "python3"
  },
  "language_info": {
   "codemirror_mode": {
    "name": "ipython",
    "version": 3
   },
   "file_extension": ".py",
   "mimetype": "text/x-python",
   "name": "python",
   "nbconvert_exporter": "python",
   "pygments_lexer": "ipython3",
   "version": "3.10.6"
  }
 },
 "nbformat": 4,
 "nbformat_minor": 5
}
