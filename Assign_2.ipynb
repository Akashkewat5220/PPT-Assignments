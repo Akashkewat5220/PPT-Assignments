{
 "cells": [
  {
   "cell_type": "code",
   "execution_count": 1,
   "id": "c16cee71-1457-4d35-9bc9-b203a3885050",
   "metadata": {},
   "outputs": [],
   "source": [
    "## All Solutions are written in leetcode platform"
   ]
  },
  {
   "cell_type": "markdown",
   "id": "b371f1dd-1e30-4a75-b961-af35d014c28a",
   "metadata": {},
   "source": [
    "Answer 1"
   ]
  },
  {
   "cell_type": "code",
   "execution_count": 2,
   "id": "bdd01777-8fa4-4ed0-8d54-bea12a0a509f",
   "metadata": {},
   "outputs": [],
   "source": [
    "## in java language"
   ]
  },
  {
   "cell_type": "raw",
   "id": "ccd9a60f-cf7e-44b6-96e5-b46aa8e70213",
   "metadata": {},
   "source": [
    "class Solution {\n",
    "    public int arrayPairSum(int[] nums) {\n",
    "        Arrays.sort(nums);\n",
    "        int sum = 0;\n",
    "\n",
    "        for (int i = 0; i < nums.length ; i = i +2){\n",
    "            sum = sum + nums[i];\n",
    "        }\n",
    "        return sum;\n",
    "    }\n",
    "}"
   ]
  },
  {
   "cell_type": "markdown",
   "id": "b604c493-7b22-4126-846d-7d6cf0b43606",
   "metadata": {},
   "source": [
    "Answer 2"
   ]
  },
  {
   "cell_type": "code",
   "execution_count": 5,
   "id": "0b6fd4b5-e18d-459d-be59-8f6f970dc7a2",
   "metadata": {},
   "outputs": [],
   "source": [
    "## in C++"
   ]
  },
  {
   "cell_type": "raw",
   "id": "08c0bb67-b8d2-4786-a8b7-36eb8098f325",
   "metadata": {},
   "source": [
    "class Solution {\n",
    "public:\n",
    "    int distributeCandies(vector<int>& candyType) {\n",
    "        int n = candyType.size();\n",
    "        set<int>s;\n",
    "        for(auto i : candyType) s.insert(i);\n",
    "        int m = s.size() ;\n",
    "        return min (n/2 , m);\n",
    "    }\n",
    "};"
   ]
  },
  {
   "cell_type": "code",
   "execution_count": null,
   "id": "a6838ec7-c121-4000-a373-6630133c4948",
   "metadata": {},
   "outputs": [],
   "source": []
  },
  {
   "cell_type": "markdown",
   "id": "756a781b-d85d-4b9e-aff2-829d266be937",
   "metadata": {},
   "source": [
    "Answer 3"
   ]
  },
  {
   "cell_type": "code",
   "execution_count": 6,
   "id": "ba20b2c4-3939-4ae7-8e50-7543b898b264",
   "metadata": {},
   "outputs": [],
   "source": [
    "## in java"
   ]
  },
  {
   "cell_type": "raw",
   "id": "ceb02c92-03f4-4d81-b2ce-98090ad28ce4",
   "metadata": {},
   "source": [
    "\n",
    "\n",
    "class Solution {\n",
    "    public int findLHS(int[] nums) {\n",
    "        Map<Integer, Integer> numCounts = new HashMap<>();\n",
    "        int longestSubsequenceLength = 0;\n",
    "\n",
    "        // Count the occurrences of each number in the array\n",
    "        for (int num : nums) {\n",
    "            numCounts.put(num, numCounts.getOrDefault(num, 0) + 1);\n",
    "        }\n",
    "\n",
    "        // Find the longest harmonious subsequence\n",
    "        for (int num : numCounts.keySet()) {\n",
    "            if (numCounts.containsKey(num + 1)) {\n",
    "                int currentSubsequenceLength = numCounts.get(num) + numCounts.get(num + 1);\n",
    "                longestSubsequenceLength = Math.max(longestSubsequenceLength, currentSubsequenceLength);\n",
    "            }\n",
    "        }\n",
    "\n",
    "        return longestSubsequenceLength;\n",
    "    }\n",
    "}\n"
   ]
  },
  {
   "cell_type": "code",
   "execution_count": null,
   "id": "95d030fe-b346-4189-bcc4-ad149a819605",
   "metadata": {},
   "outputs": [],
   "source": []
  },
  {
   "cell_type": "markdown",
   "id": "144ec994-4720-40f6-b6b0-031ec5f6daa9",
   "metadata": {},
   "source": [
    "Answer 4"
   ]
  },
  {
   "cell_type": "code",
   "execution_count": 1,
   "id": "d6582907-6005-473a-8247-62ff8b4e3de3",
   "metadata": {},
   "outputs": [],
   "source": [
    "## in java"
   ]
  },
  {
   "cell_type": "raw",
   "id": "8401f635-63a5-4488-8f81-e7849464fe92",
   "metadata": {},
   "source": [
    "class Solution {\n",
    "    public boolean canPlaceFlowers(int[] flowerbed, int n) {\n",
    "        int count = 0;\n",
    "        for(int i = 0; i<flowerbed.length ; i++){\n",
    "            if(flowerbed[i] == 0){\n",
    "                int prev = (i == 0 || flowerbed[i - 1] ==0)?0:1;\n",
    "                int next = (i==flowerbed.length - 1 || flowerbed[i+1]==0)?0:1;\n",
    "\n",
    "                if (prev ==0 && next == 0){\n",
    "                    flowerbed[i] = 1;\n",
    "                    count++;\n",
    "                }\n",
    "            }\n",
    "        }\n",
    "        return count>= n;\n",
    "     }\n",
    "\n",
    "}"
   ]
  },
  {
   "cell_type": "code",
   "execution_count": null,
   "id": "ee6ec8c2-3bb9-4289-884b-bf80587e7775",
   "metadata": {},
   "outputs": [],
   "source": []
  },
  {
   "cell_type": "code",
   "execution_count": 2,
   "id": "125bbfe6-9df3-45a7-8e45-1c0ad69bd429",
   "metadata": {},
   "outputs": [],
   "source": [
    "## Answeer 5"
   ]
  },
  {
   "cell_type": "code",
   "execution_count": null,
   "id": "3444af93-754d-4be9-8ca4-aea47aa1f96b",
   "metadata": {},
   "outputs": [],
   "source": [
    "class Solution {\n",
    "    public int maximumProduct(int[] nums) {\n",
    "           Arrays.sort(nums);\n",
    "        int n = nums.length;\n",
    "        \n",
    "        // Maximum product can be obtained by multiplying:\n",
    "        // 1. The three largest numbers\n",
    "        // 2. The two smallest numbers and the largest number\n",
    "        \n",
    "        // Case 1: Three largest numbers\n",
    "        int product1 = nums[n - 1] * nums[n - 2] * nums[n - 3];\n",
    "        \n",
    "        // Case 2: Two smallest numbers and the largest number\n",
    "        int product2 = nums[0] * nums[1] * nums[n - 1];\n",
    "        \n",
    "        // Return the maximum of the two products\n",
    "        return Math.max(product1, product2);\n",
    "    }\n",
    "}\n",
    "    "
   ]
  },
  {
   "cell_type": "code",
   "execution_count": null,
   "id": "2a6fc917-c852-4fad-b71b-7a6c0fcd445f",
   "metadata": {},
   "outputs": [],
   "source": []
  },
  {
   "cell_type": "code",
   "execution_count": 3,
   "id": "63bbf555-b98f-4ebb-be52-e9ed947f98e0",
   "metadata": {},
   "outputs": [],
   "source": [
    "#Answer 6"
   ]
  },
  {
   "cell_type": "code",
   "execution_count": null,
   "id": "51c9862b-5fea-4322-97a4-c894411e6750",
   "metadata": {},
   "outputs": [],
   "source": [
    "class Solution {\n",
    "    public int search(int[] nums, int target) {\n",
    "\n",
    "        int left = 0;\n",
    "        int right = nums.length - 1;\n",
    "        \n",
    "        while (left <= right) {\n",
    "            int mid = left + (right - left) / 2;\n",
    "            \n",
    "            if (nums[mid] == target) {\n",
    "                return mid;\n",
    "            } else if (nums[mid] < target) {\n",
    "                left = mid + 1;\n",
    "            } else {\n",
    "                right = mid - 1;\n",
    "            }\n",
    "        }\n",
    "        \n",
    "        return -1;\n",
    "    }\n",
    "}"
   ]
  },
  {
   "cell_type": "code",
   "execution_count": null,
   "id": "c0be6b70-6260-4602-b35b-812e87a5b8cf",
   "metadata": {},
   "outputs": [],
   "source": []
  },
  {
   "cell_type": "code",
   "execution_count": 4,
   "id": "785c0269-1cd4-4ed0-b108-790924ee82c3",
   "metadata": {},
   "outputs": [],
   "source": [
    "#anser 7"
   ]
  },
  {
   "cell_type": "code",
   "execution_count": null,
   "id": "179cdc9e-ed52-43d6-98a7-91cc0f6cd743",
   "metadata": {},
   "outputs": [],
   "source": [
    "class Solution {\n",
    "    public boolean isMonotonic(int[] nums) {\n",
    "       \n",
    "        boolean increasing = true;\n",
    "        boolean decreasing = true;\n",
    "\n",
    "        for (int i = 1; i < nums.length; i++) {\n",
    "            if (nums[i] < nums[i - 1]) {\n",
    "                increasing = false;\n",
    "            }\n",
    "            if (nums[i] > nums[i - 1]) {\n",
    "                decreasing = false;\n",
    "            }\n",
    "        }\n",
    "\n",
    "        return increasing || decreasing;\n",
    "    }\n",
    "}\n",
    "\n",
    "    "
   ]
  },
  {
   "cell_type": "code",
   "execution_count": null,
   "id": "316e00aa-6d58-453a-941c-884b1b6607ea",
   "metadata": {},
   "outputs": [],
   "source": []
  },
  {
   "cell_type": "code",
   "execution_count": null,
   "id": "2d0eae24-d0ce-43e5-8158-612186593939",
   "metadata": {},
   "outputs": [],
   "source": []
  },
  {
   "cell_type": "code",
   "execution_count": null,
   "id": "701fd768-d06a-4d3d-9bb9-a291797bc887",
   "metadata": {},
   "outputs": [],
   "source": []
  },
  {
   "cell_type": "code",
   "execution_count": null,
   "id": "a63a666a-298d-4385-9b44-a1dd61761d4a",
   "metadata": {},
   "outputs": [],
   "source": []
  },
  {
   "cell_type": "code",
   "execution_count": null,
   "id": "fabd8cc8-236f-4e0d-ae15-27788edd9659",
   "metadata": {},
   "outputs": [],
   "source": []
  },
  {
   "cell_type": "code",
   "execution_count": null,
   "id": "8ae2bcdc-9f92-406b-b692-7c9b17cd81b6",
   "metadata": {},
   "outputs": [],
   "source": []
  }
 ],
 "metadata": {
  "kernelspec": {
   "display_name": "Python 3 (ipykernel)",
   "language": "python",
   "name": "python3"
  },
  "language_info": {
   "codemirror_mode": {
    "name": "ipython",
    "version": 3
   },
   "file_extension": ".py",
   "mimetype": "text/x-python",
   "name": "python",
   "nbconvert_exporter": "python",
   "pygments_lexer": "ipython3",
   "version": "3.10.6"
  }
 },
 "nbformat": 4,
 "nbformat_minor": 5
}
