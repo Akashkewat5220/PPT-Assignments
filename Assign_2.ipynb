{
 "cells": [
  {
   "cell_type": "code",
   "execution_count": 1,
   "id": "c16cee71-1457-4d35-9bc9-b203a3885050",
   "metadata": {},
   "outputs": [],
   "source": [
    "## All Solutions are written in leetcode platform"
   ]
  },
  {
   "cell_type": "markdown",
   "id": "b371f1dd-1e30-4a75-b961-af35d014c28a",
   "metadata": {},
   "source": [
    "Answer 1"
   ]
  },
  {
   "cell_type": "code",
   "execution_count": 2,
   "id": "bdd01777-8fa4-4ed0-8d54-bea12a0a509f",
   "metadata": {},
   "outputs": [],
   "source": [
    "## in java language"
   ]
  },
  {
   "cell_type": "raw",
   "id": "ccd9a60f-cf7e-44b6-96e5-b46aa8e70213",
   "metadata": {},
   "source": [
    "class Solution {\n",
    "    public int arrayPairSum(int[] nums) {\n",
    "        Arrays.sort(nums);\n",
    "        int sum = 0;\n",
    "\n",
    "        for (int i = 0; i < nums.length ; i = i +2){\n",
    "            sum = sum + nums[i];\n",
    "        }\n",
    "        return sum;\n",
    "    }\n",
    "}"
   ]
  },
  {
   "cell_type": "markdown",
   "id": "b604c493-7b22-4126-846d-7d6cf0b43606",
   "metadata": {},
   "source": [
    "Answer 2"
   ]
  },
  {
   "cell_type": "code",
   "execution_count": 5,
   "id": "0b6fd4b5-e18d-459d-be59-8f6f970dc7a2",
   "metadata": {},
   "outputs": [],
   "source": [
    "## in C++"
   ]
  },
  {
   "cell_type": "raw",
   "id": "08c0bb67-b8d2-4786-a8b7-36eb8098f325",
   "metadata": {},
   "source": [
    "class Solution {\n",
    "public:\n",
    "    int distributeCandies(vector<int>& candyType) {\n",
    "        int n = candyType.size();\n",
    "        set<int>s;\n",
    "        for(auto i : candyType) s.insert(i);\n",
    "        int m = s.size() ;\n",
    "        return min (n/2 , m);\n",
    "    }\n",
    "};"
   ]
  },
  {
   "cell_type": "code",
   "execution_count": null,
   "id": "a6838ec7-c121-4000-a373-6630133c4948",
   "metadata": {},
   "outputs": [],
   "source": []
  },
  {
   "cell_type": "markdown",
   "id": "756a781b-d85d-4b9e-aff2-829d266be937",
   "metadata": {},
   "source": [
    "Answer 3"
   ]
  },
  {
   "cell_type": "code",
   "execution_count": 6,
   "id": "ba20b2c4-3939-4ae7-8e50-7543b898b264",
   "metadata": {},
   "outputs": [],
   "source": [
    "## in java"
   ]
  },
  {
   "cell_type": "raw",
   "id": "ceb02c92-03f4-4d81-b2ce-98090ad28ce4",
   "metadata": {},
   "source": [
    "\n",
    "\n",
    "class Solution {\n",
    "    public int findLHS(int[] nums) {\n",
    "        Map<Integer, Integer> numCounts = new HashMap<>();\n",
    "        int longestSubsequenceLength = 0;\n",
    "\n",
    "        // Count the occurrences of each number in the array\n",
    "        for (int num : nums) {\n",
    "            numCounts.put(num, numCounts.getOrDefault(num, 0) + 1);\n",
    "        }\n",
    "\n",
    "        // Find the longest harmonious subsequence\n",
    "        for (int num : numCounts.keySet()) {\n",
    "            if (numCounts.containsKey(num + 1)) {\n",
    "                int currentSubsequenceLength = numCounts.get(num) + numCounts.get(num + 1);\n",
    "                longestSubsequenceLength = Math.max(longestSubsequenceLength, currentSubsequenceLength);\n",
    "            }\n",
    "        }\n",
    "\n",
    "        return longestSubsequenceLength;\n",
    "    }\n",
    "}\n"
   ]
  },
  {
   "cell_type": "code",
   "execution_count": null,
   "id": "95d030fe-b346-4189-bcc4-ad149a819605",
   "metadata": {},
   "outputs": [],
   "source": []
  },
  {
   "cell_type": "markdown",
   "id": "144ec994-4720-40f6-b6b0-031ec5f6daa9",
   "metadata": {},
   "source": [
    "Answer 4"
   ]
  },
  {
   "cell_type": "code",
   "execution_count": null,
   "id": "d6582907-6005-473a-8247-62ff8b4e3de3",
   "metadata": {},
   "outputs": [],
   "source": []
  },
  {
   "cell_type": "code",
   "execution_count": null,
   "id": "7e3401f3-82f2-4523-b84a-94f6321248c7",
   "metadata": {},
   "outputs": [],
   "source": []
  },
  {
   "cell_type": "code",
   "execution_count": null,
   "id": "ee6ec8c2-3bb9-4289-884b-bf80587e7775",
   "metadata": {},
   "outputs": [],
   "source": []
  },
  {
   "cell_type": "code",
   "execution_count": null,
   "id": "125bbfe6-9df3-45a7-8e45-1c0ad69bd429",
   "metadata": {},
   "outputs": [],
   "source": []
  },
  {
   "cell_type": "code",
   "execution_count": null,
   "id": "3444af93-754d-4be9-8ca4-aea47aa1f96b",
   "metadata": {},
   "outputs": [],
   "source": []
  }
 ],
 "metadata": {
  "kernelspec": {
   "display_name": "Python 3 (ipykernel)",
   "language": "python",
   "name": "python3"
  },
  "language_info": {
   "codemirror_mode": {
    "name": "ipython",
    "version": 3
   },
   "file_extension": ".py",
   "mimetype": "text/x-python",
   "name": "python",
   "nbconvert_exporter": "python",
   "pygments_lexer": "ipython3",
   "version": "3.10.6"
  }
 },
 "nbformat": 4,
 "nbformat_minor": 5
}
