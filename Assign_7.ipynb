{
 "cells": [
  {
   "cell_type": "markdown",
   "id": "9a44ec67-ded6-445c-934c-215d23f6800e",
   "metadata": {},
   "source": [
    "# ANSWER 1"
   ]
  },
  {
   "cell_type": "code",
   "execution_count": 1,
   "id": "fdafe803-1cfd-4025-81e9-ea1f06d80043",
   "metadata": {},
   "outputs": [],
   "source": [
    "def isIsomorphic(s, t):\n",
    "    if len(s) != len(t):\n",
    "        return False\n",
    "    \n",
    "    mapping = {}\n",
    "    mapped_chars = set()\n",
    "    \n",
    "    for i in range(len(s)):\n",
    "        char_s = s[i]\n",
    "        char_t = t[i]\n",
    "        \n",
    "        if char_s in mapping:\n",
    "            if mapping[char_s] != char_t:\n",
    "                return False\n",
    "        else:\n",
    "            if char_t in mapped_chars:\n",
    "                return False\n",
    "            \n",
    "            mapping[char_s] = char_t\n",
    "            mapped_chars.add(char_t)\n",
    "    \n",
    "    return True\n"
   ]
  },
  {
   "cell_type": "code",
   "execution_count": 5,
   "id": "d4485bf5-5ddb-43dc-8a41-b8d4dee47623",
   "metadata": {},
   "outputs": [
    {
     "name": "stdout",
     "output_type": "stream",
     "text": [
      "True\n"
     ]
    }
   ],
   "source": [
    "s = \"egg\"\n",
    "t = \"add\"\n",
    "print(isIsomorphic(s , t))"
   ]
  },
  {
   "cell_type": "code",
   "execution_count": null,
   "id": "5d054295-cec4-4f72-8c35-bf4a22ef1273",
   "metadata": {},
   "outputs": [],
   "source": []
  },
  {
   "cell_type": "markdown",
   "id": "4303b185-de13-4614-a2fc-82c134a05a07",
   "metadata": {},
   "source": [
    "# ANSWER 2"
   ]
  },
  {
   "cell_type": "code",
   "execution_count": 6,
   "id": "f3f78c12-ed21-4a2d-a376-ae341f0fc33a",
   "metadata": {},
   "outputs": [],
   "source": [
    "def isStrobogrammatic(num):\n",
    "    strobogrammatic_map = {\"0\": \"0\", \"1\": \"1\", \"6\": \"9\", \"8\": \"8\", \"9\": \"6\"}\n",
    "    \n",
    "    left, right = 0, len(num) - 1\n",
    "    \n",
    "    while left <= right:\n",
    "        if num[left] not in strobogrammatic_map or num[right] != strobogrammatic_map[num[left]]:\n",
    "            return False\n",
    "        \n",
    "        left += 1\n",
    "        right -= 1\n",
    "    \n",
    "    return True\n"
   ]
  },
  {
   "cell_type": "code",
   "execution_count": 9,
   "id": "45839131-4ff1-4bae-bcf6-d03a6fb12ea1",
   "metadata": {},
   "outputs": [
    {
     "name": "stdout",
     "output_type": "stream",
     "text": [
      "True\n"
     ]
    }
   ],
   "source": [
    "num = \"69\"\n",
    "print(isStrobogrammatic(num))"
   ]
  },
  {
   "cell_type": "code",
   "execution_count": null,
   "id": "7e32596f-c779-41ed-98b5-e957213e0731",
   "metadata": {},
   "outputs": [],
   "source": []
  },
  {
   "cell_type": "markdown",
   "id": "3de9e9ac-62c1-4dab-9f5f-f2c7e1d3169d",
   "metadata": {},
   "source": [
    "# ANSWER 3"
   ]
  },
  {
   "cell_type": "code",
   "execution_count": 10,
   "id": "0d2cf403-fe16-4cf1-a287-d7c92a051a4b",
   "metadata": {},
   "outputs": [],
   "source": [
    "def addStrings(num1, num2):\n",
    "    carry = 0\n",
    "    result = []\n",
    "    \n",
    "    i, j = len(num1) - 1, len(num2) - 1\n",
    "    \n",
    "    while i >= 0 or j >= 0 or carry > 0:\n",
    "        digit1 = int(num1[i]) if i >= 0 else 0\n",
    "        digit2 = int(num2[j]) if j >= 0 else 0\n",
    "        \n",
    "        carry, digit = divmod(digit1 + digit2 + carry, 10)\n",
    "        result.append(str(digit))\n",
    "        \n",
    "        i -= 1\n",
    "        j -= 1\n",
    "    \n",
    "    return \"\".join(result[::-1])\n"
   ]
  },
  {
   "cell_type": "code",
   "execution_count": 12,
   "id": "48fb21a4-72f2-44c8-b4b6-d2940c92614c",
   "metadata": {},
   "outputs": [
    {
     "name": "stdout",
     "output_type": "stream",
     "text": [
      "134\n"
     ]
    }
   ],
   "source": [
    "num1 = \"11\"\n",
    "num2 = \"123\"\n",
    "print(addStrings(num1 , num2))"
   ]
  },
  {
   "cell_type": "code",
   "execution_count": null,
   "id": "ebcfec2e-06c7-42ec-9e52-47726aa46dc6",
   "metadata": {},
   "outputs": [],
   "source": []
  },
  {
   "cell_type": "markdown",
   "id": "84f0ef78-2a6e-4ec1-a677-ed15b447307f",
   "metadata": {},
   "source": [
    "# ANSWER 4"
   ]
  },
  {
   "cell_type": "markdown",
   "id": "b1835b68-237c-4c62-88b3-28ca01c8ab6c",
   "metadata": {},
   "source": [
    "def reverseWords(s):\n",
    "    words = s.split()\n",
    "    \n",
    "    reversed_words = [word[::-1] for word in words]\n",
    "    \n",
    "    return \" \".join(reversed_words)\n"
   ]
  },
  {
   "cell_type": "code",
   "execution_count": 14,
   "id": "7af13210-1157-4ac5-8389-d59d04135858",
   "metadata": {},
   "outputs": [
    {
     "name": "stdout",
     "output_type": "stream",
     "text": [
      "s'teL ekat edoCteeL tsetnoc\n"
     ]
    }
   ],
   "source": [
    "s = \"Let's take LeetCode contest\"\n",
    "print(reverseWords(s))"
   ]
  },
  {
   "cell_type": "code",
   "execution_count": null,
   "id": "d7325f27-55f9-409e-9389-4c57c2e36140",
   "metadata": {},
   "outputs": [],
   "source": []
  },
  {
   "cell_type": "markdown",
   "id": "8d6acb4b-07ea-42ea-ae06-69d539fde0af",
   "metadata": {},
   "source": [
    "# ANSWER 5"
   ]
  },
  {
   "cell_type": "code",
   "execution_count": 15,
   "id": "a1da7697-441e-4651-98e6-ecba40bfc833",
   "metadata": {},
   "outputs": [],
   "source": [
    "def reverseStr(s, k):\n",
    "    chars = list(s)\n",
    "    n = len(chars)\n",
    "    i = 0\n",
    "    \n",
    "    while i < n:\n",
    "        left = i\n",
    "        right = min(i + k - 1, n - 1)\n",
    "        \n",
    "        while left < right:\n",
    "            chars[left], chars[right] = chars[right], chars[left]\n",
    "            left += 1\n",
    "            right -= 1\n",
    "        \n",
    "        i += 2 * k\n",
    "    \n",
    "    return \"\".join(chars)\n"
   ]
  },
  {
   "cell_type": "code",
   "execution_count": 16,
   "id": "0fc3890c-31fd-4a96-bf4e-1264f6a078ba",
   "metadata": {},
   "outputs": [
    {
     "name": "stdout",
     "output_type": "stream",
     "text": [
      "bacdfeg\n"
     ]
    }
   ],
   "source": [
    "s = \"abcdefg\"\n",
    "k = 2\n",
    "print(reverseStr(s , k))"
   ]
  },
  {
   "cell_type": "code",
   "execution_count": null,
   "id": "023a2162-8f89-4dcc-9030-896d45f270d4",
   "metadata": {},
   "outputs": [],
   "source": []
  },
  {
   "cell_type": "markdown",
   "id": "dc94a006-ae3e-4105-ac72-df092425abad",
   "metadata": {},
   "source": [
    "# ANSWER 6"
   ]
  },
  {
   "cell_type": "code",
   "execution_count": 17,
   "id": "0178224d-fd80-4c88-8595-442a7e658405",
   "metadata": {},
   "outputs": [],
   "source": [
    "def rotateString(s, goal):\n",
    "    if len(s) != len(goal):\n",
    "        return False\n",
    "    \n",
    "    double_s = s + s\n",
    "    \n",
    "    if goal in double_s:\n",
    "        return True\n",
    "    \n",
    "    return False\n"
   ]
  },
  {
   "cell_type": "code",
   "execution_count": 20,
   "id": "06d68260-ed1d-4859-a8a6-a135aa167341",
   "metadata": {},
   "outputs": [
    {
     "name": "stdout",
     "output_type": "stream",
     "text": [
      "True\n"
     ]
    }
   ],
   "source": [
    "s = \"abcde\"\n",
    "goal = \"cdeab\"\n",
    "print(rotateString(s , goal))"
   ]
  },
  {
   "cell_type": "code",
   "execution_count": null,
   "id": "d491d467-3835-4a1e-baa7-da032afd2131",
   "metadata": {},
   "outputs": [],
   "source": []
  },
  {
   "cell_type": "markdown",
   "id": "138d52ad-83ad-42df-8872-a4be0d8b131b",
   "metadata": {},
   "source": [
    "# ANSWER 7"
   ]
  },
  {
   "cell_type": "code",
   "execution_count": 21,
   "id": "4380521f-564f-4087-8b4a-c2243f78d4fd",
   "metadata": {},
   "outputs": [],
   "source": [
    "def backspaceCompare(s, t):\n",
    "    def build_string(string):\n",
    "        stack = []\n",
    "        \n",
    "        for char in string:\n",
    "            if char == \"#\":\n",
    "                if stack:\n",
    "                    stack.pop()\n",
    "            else:\n",
    "                stack.append(char)\n",
    "        \n",
    "        return \"\".join(stack)\n",
    "    \n",
    "    return build_string(s) == build_string(t)\n"
   ]
  },
  {
   "cell_type": "code",
   "execution_count": null,
   "id": "470db9d6-5b33-47f3-9cd6-898c3901566b",
   "metadata": {},
   "outputs": [],
   "source": [
    "s = \"ab#c\"\n",
    "t = \"ad#c\"\n",
    "print(backspace )"
   ]
  },
  {
   "cell_type": "code",
   "execution_count": null,
   "id": "611e6a3b-7234-4604-aa39-d38eabb39b72",
   "metadata": {},
   "outputs": [],
   "source": []
  },
  {
   "cell_type": "code",
   "execution_count": null,
   "id": "c96529ab-21bb-4559-8076-3841535c2654",
   "metadata": {},
   "outputs": [],
   "source": []
  },
  {
   "cell_type": "code",
   "execution_count": null,
   "id": "69ead019-7537-401d-aadf-3616cdbef412",
   "metadata": {},
   "outputs": [],
   "source": []
  },
  {
   "cell_type": "code",
   "execution_count": null,
   "id": "71fe64d2-1951-4e14-8a7b-ff7c18fa6dbc",
   "metadata": {},
   "outputs": [],
   "source": []
  },
  {
   "cell_type": "code",
   "execution_count": null,
   "id": "063a1e95-6445-4bbe-af30-dafb20edb153",
   "metadata": {},
   "outputs": [],
   "source": []
  },
  {
   "cell_type": "code",
   "execution_count": null,
   "id": "5eccc4c2-80b5-4dc1-97dc-25f3d468b96a",
   "metadata": {},
   "outputs": [],
   "source": []
  },
  {
   "cell_type": "code",
   "execution_count": null,
   "id": "12aa1f4b-f582-4210-9eb5-608994667116",
   "metadata": {},
   "outputs": [],
   "source": []
  },
  {
   "cell_type": "code",
   "execution_count": null,
   "id": "5d18cbc4-0e9e-46c6-b7e3-94c7d270d57f",
   "metadata": {},
   "outputs": [],
   "source": []
  }
 ],
 "metadata": {
  "kernelspec": {
   "display_name": "Python 3 (ipykernel)",
   "language": "python",
   "name": "python3"
  },
  "language_info": {
   "codemirror_mode": {
    "name": "ipython",
    "version": 3
   },
   "file_extension": ".py",
   "mimetype": "text/x-python",
   "name": "python",
   "nbconvert_exporter": "python",
   "pygments_lexer": "ipython3",
   "version": "3.10.6"
  }
 },
 "nbformat": 4,
 "nbformat_minor": 5
}
