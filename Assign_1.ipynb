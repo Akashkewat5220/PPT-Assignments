{
 "cells": [
  {
   "cell_type": "markdown",
   "id": "2669470e-d3ee-4fdd-9e16-c2739dcc7242",
   "metadata": {},
   "source": [
    "ANSWER5 1"
   ]
  },
  {
   "cell_type": "code",
   "execution_count": 7,
   "id": "36e599c3-4369-4166-9d47-cffcbc05e33f",
   "metadata": {},
   "outputs": [],
   "source": [
    "def twoSum(nums, target):\n",
    "    # Create a dictionary to store the complement of each number\n",
    "    complements = {}\n",
    "\n",
    "    # Iterate through the array\n",
    "    for i, num in enumerate(nums):\n",
    "        # Check if the complement exists in the dictionary\n",
    "        if num in complements:\n",
    "            # Return the indices of the two numbers\n",
    "            return [complements[num], i]\n",
    "        \n",
    "        # Calculate the complement and store it in the dictionary\n",
    "        complement = target - num\n",
    "        complements[complement] = i\n",
    "    \n",
    "    # If no solution is found, return an empty array\n",
    "    return []\n"
   ]
  },
  {
   "cell_type": "code",
   "execution_count": null,
   "id": "9c8b166e-69bd-4716-af4a-67efbb791d90",
   "metadata": {},
   "outputs": [],
   "source": []
  },
  {
   "cell_type": "markdown",
   "id": "a14d031c-fd56-4f57-b6aa-c2c707120ad8",
   "metadata": {},
   "source": [
    "ANSWER 2"
   ]
  },
  {
   "cell_type": "code",
   "execution_count": 9,
   "id": "4c19ceb9-4f2d-462b-96ce-3c5ef09048f9",
   "metadata": {},
   "outputs": [],
   "source": [
    "def removeElement(nums, val):\n",
    "    # Initialize two pointers, one at the beginning and one at the end of the array\n",
    "    i = 0\n",
    "    n = len(nums)\n",
    "\n",
    "    # Iterate through the array\n",
    "    while i < n:\n",
    "        # If the current element matches the target value, replace it with the last element\n",
    "        if nums[i] == val:\n",
    "            nums[i] = nums[n - 1]\n",
    "            n -= 1\n",
    "        else:\n",
    "            i += 1\n",
    "\n",
    "    # Return the new length of the modified array\n",
    "    return n\n"
   ]
  },
  {
   "cell_type": "code",
   "execution_count": null,
   "id": "dbd0bdbd-5f2e-48b1-a8f4-04db361b9b69",
   "metadata": {},
   "outputs": [],
   "source": []
  },
  {
   "cell_type": "markdown",
   "id": "0a207428-37af-4642-8fa4-c33134007696",
   "metadata": {},
   "source": [
    "ANSWER 3"
   ]
  },
  {
   "cell_type": "code",
   "execution_count": 1,
   "id": "c9ace44d-c618-4449-8ba9-d5c655658434",
   "metadata": {},
   "outputs": [
    {
     "name": "stdout",
     "output_type": "stream",
     "text": [
      "2\n"
     ]
    }
   ],
   "source": [
    "def searchInsert(nums, target):\n",
    "    left = 0\n",
    "    right = len(nums) - 1\n",
    "    \n",
    "    while left <= right:\n",
    "        mid = (left + right) // 2\n",
    "        if nums[mid] == target:\n",
    "            return mid\n",
    "        elif nums[mid] < target:\n",
    "            left = mid + 1\n",
    "        else:\n",
    "            right = mid - 1\n",
    "    \n",
    "    return left\n",
    "\n",
    "# Test case\n",
    "nums = [1, 3, 5, 6]\n",
    "target = 5\n",
    "print(searchInsert(nums, target))  # Output: 2\n"
   ]
  },
  {
   "cell_type": "code",
   "execution_count": null,
   "id": "dd7d941b-e301-4686-b82f-df64e0c29b9f",
   "metadata": {},
   "outputs": [],
   "source": []
  },
  {
   "cell_type": "markdown",
   "id": "c5f637c5-9ac9-446f-8c72-85c54cd0c324",
   "metadata": {},
   "source": [
    "ANSWER 4"
   ]
  },
  {
   "cell_type": "code",
   "execution_count": 2,
   "id": "1a7f542e-adcb-49dc-bd7a-9c074717d27c",
   "metadata": {},
   "outputs": [
    {
     "name": "stdout",
     "output_type": "stream",
     "text": [
      "[1, 2, 4]\n",
      "[4, 3, 2, 2]\n",
      "[1, 0]\n"
     ]
    }
   ],
   "source": [
    "def plusOne(digits):\n",
    "    n = len(digits)\n",
    "    \n",
    "    # Starting from the rightmost digit\n",
    "    for i in range(n-1, -1, -1):\n",
    "        if digits[i] < 9:\n",
    "            # If the digit is less than 9, we can simply increment it and return the result\n",
    "            digits[i] += 1\n",
    "            return digits\n",
    "        else:\n",
    "            # If the digit is 9, set it to 0 and continue to the next digit\n",
    "            digits[i] = 0\n",
    "    \n",
    "    # If all digits are 9, add an additional digit at the beginning and set it to 1\n",
    "    return [1] + digits\n",
    "\n",
    "# Test cases\n",
    "digits1 = [1, 2, 3]\n",
    "print(plusOne(digits1))  # Output: [1, 2, 4]\n",
    "\n",
    "digits2 = [4, 3, 2, 1]\n",
    "print(plusOne(digits2))  # Output: [4, 3, 2, 2]\n",
    "\n",
    "digits3 = [9]\n",
    "print(plusOne(digits3))  # Output: [1, 0]\n"
   ]
  },
  {
   "cell_type": "code",
   "execution_count": null,
   "id": "68b96d06-3a22-44d2-9eb3-6f93a41da6a5",
   "metadata": {},
   "outputs": [],
   "source": []
  },
  {
   "cell_type": "markdown",
   "id": "95005059-c051-4d22-8a11-3f06fd05b21b",
   "metadata": {},
   "source": [
    "ANSWER 5"
   ]
  },
  {
   "cell_type": "code",
   "execution_count": 5,
   "id": "185e4ec5-6332-406f-8b33-e1d5f027f411",
   "metadata": {},
   "outputs": [
    {
     "name": "stdout",
     "output_type": "stream",
     "text": [
      "[1, 2, 2, 3, 5, 6]\n"
     ]
    }
   ],
   "source": [
    "def merge(nums1, m, nums2, n):\n",
    "    # Initialize two pointers for the last elements of the two arrays\n",
    "    p1 = m - 1\n",
    "    p2 = n - 1\n",
    "    \n",
    "    # Start from the end of the merged array\n",
    "    p = m + n - 1\n",
    "    \n",
    "    # Merge the arrays from right to left\n",
    "    while p1 >= 0 and p2 >= 0:\n",
    "        if nums1[p1] >= nums2[p2]:\n",
    "            nums1[p] = nums1[p1]\n",
    "            p1 -= 1\n",
    "        else:\n",
    "            nums1[p] = nums2[p2]\n",
    "            p2 -= 1\n",
    "        p -= 1\n",
    "    \n",
    "    # Copy any remaining elements from nums2 to nums1\n",
    "    nums1[:p2 + 1] = nums2[:p2 + 1]\n",
    "\n",
    "# Test case\n",
    "nums1 = [1, 2, 3, 0, 0, 0]\n",
    "m = 3\n",
    "nums2 = [2, 5, 6]\n",
    "n = 3\n",
    "\n",
    "merge(nums1, m, nums2, n)\n",
    "print(nums1)  # Output: [1, 2, 2, 3, 5, 6]\n"
   ]
  },
  {
   "cell_type": "code",
   "execution_count": null,
   "id": "131c4685-1bee-4337-9682-5dc538603f43",
   "metadata": {},
   "outputs": [],
   "source": []
  },
  {
   "cell_type": "markdown",
   "id": "69476a8f-4a56-4546-98b2-6ca6ae46b1b7",
   "metadata": {},
   "source": [
    "ANSWER 6"
   ]
  },
  {
   "cell_type": "code",
   "execution_count": 6,
   "id": "1333936d-9a8e-43d9-a76e-7188500eb75e",
   "metadata": {},
   "outputs": [
    {
     "name": "stdout",
     "output_type": "stream",
     "text": [
      "True\n",
      "False\n",
      "True\n"
     ]
    }
   ],
   "source": [
    "def containsDuplicate(nums):\n",
    "    num_set = set()\n",
    "    \n",
    "    for num in nums:\n",
    "        if num in num_set:\n",
    "            return True\n",
    "        else:\n",
    "            num_set.add(num)\n",
    "    \n",
    "    return False\n",
    "\n",
    "# Test cases\n",
    "nums1 = [1, 2, 3, 1]\n",
    "print(containsDuplicate(nums1))  # Output: True\n",
    "\n",
    "nums2 = [1, 2, 3, 4]\n",
    "print(containsDuplicate(nums2))  # Output: False\n",
    "\n",
    "nums3 = [1, 1, 1, 3, 3, 4, 3, 2, 4, 2]\n",
    "print(containsDuplicate(nums3))  # Output: True\n"
   ]
  },
  {
   "cell_type": "code",
   "execution_count": null,
   "id": "6c3c61c5-bdfa-485c-baca-49d3a020282b",
   "metadata": {},
   "outputs": [],
   "source": []
  },
  {
   "cell_type": "markdown",
   "id": "43327367-ead3-4b43-bde9-e8ff7a120300",
   "metadata": {},
   "source": [
    "ANSWER 7"
   ]
  },
  {
   "cell_type": "code",
   "execution_count": 11,
   "id": "9e860b78-9421-4faf-945d-cff263819afe",
   "metadata": {},
   "outputs": [],
   "source": [
    "def moveZeroes(nums):\n",
    "    # Initialize a pointer to keep track of the position to place the next non-zero element\n",
    "    next_position = 0\n",
    "\n",
    "    # Iterate through the array\n",
    "    for num in nums:\n",
    "        # If the current element is non-zero, move it to the next_position and increment next_position\n",
    "        if num != 0:\n",
    "            nums[next_position] = num\n",
    "            next_position += 1\n",
    "\n",
    "    # Fill the remaining positions with zeroes\n",
    "    while next_position < len(nums):\n",
    "        nums[next_position] = 0\n",
    "        next_position += 1\n"
   ]
  },
  {
   "cell_type": "code",
   "execution_count": null,
   "id": "e8d0e5cc-cc9e-4299-84f4-75b9163719b0",
   "metadata": {},
   "outputs": [],
   "source": []
  },
  {
   "cell_type": "markdown",
   "id": "4076bf63-3bfd-43d2-b19b-0e1160888d4e",
   "metadata": {},
   "source": [
    "ANSWER 8"
   ]
  },
  {
   "cell_type": "code",
   "execution_count": 12,
   "id": "4469f16e-c12c-4033-ae63-54b409c0431a",
   "metadata": {},
   "outputs": [],
   "source": [
    "def findErrorNums(nums):\n",
    "    # Create a set to keep track of the unique numbers\n",
    "    unique_nums = set()\n",
    "    duplicate_num = -1\n",
    "    missing_num = -1\n",
    "\n",
    "    # Iterate through the array\n",
    "    for num in nums:\n",
    "        # If the current number is already in the set, it is the duplicate\n",
    "        if num in unique_nums:\n",
    "            duplicate_num = num\n",
    "        # Add the current number to the set\n",
    "        unique_nums.add(num)\n",
    "\n",
    "    # Find the missing number by comparing the set of unique numbers with the expected range\n",
    "    for i in range(1, len(nums) + 1):\n",
    "        if i not in unique_nums:\n",
    "            missing_num = i\n",
    "            break\n",
    "\n",
    "    # Return the duplicate and missing numbers\n",
    "    return [duplicate_num, missing_num]\n"
   ]
  },
  {
   "cell_type": "code",
   "execution_count": null,
   "id": "ca2abca1-cab0-4031-97c1-310ca644044a",
   "metadata": {},
   "outputs": [],
   "source": []
  }
 ],
 "metadata": {
  "kernelspec": {
   "display_name": "Python 3 (ipykernel)",
   "language": "python",
   "name": "python3"
  },
  "language_info": {
   "codemirror_mode": {
    "name": "ipython",
    "version": 3
   },
   "file_extension": ".py",
   "mimetype": "text/x-python",
   "name": "python",
   "nbconvert_exporter": "python",
   "pygments_lexer": "ipython3",
   "version": "3.10.6"
  }
 },
 "nbformat": 4,
 "nbformat_minor": 5
}
