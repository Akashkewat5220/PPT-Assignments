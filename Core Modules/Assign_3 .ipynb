{
 "cells": [
  {
   "cell_type": "code",
   "execution_count": 2,
   "id": "e161ddcc-ec1e-4f7a-b075-adea98f8ccbf",
   "metadata": {},
   "outputs": [
    {
     "ename": "SyntaxError",
     "evalue": "invalid syntax (4134520737.py, line 1)",
     "output_type": "error",
     "traceback": [
      "\u001b[0;36m  Cell \u001b[0;32mIn [2], line 1\u001b[0;36m\u001b[0m\n\u001b[0;31m    1 to 8\u001b[0m\n\u001b[0m      ^\u001b[0m\n\u001b[0;31mSyntaxError\u001b[0m\u001b[0;31m:\u001b[0m invalid syntax\n"
     ]
    }
   ],
   "source": [
    "1 to 8"
   ]
  },
  {
   "cell_type": "code",
   "execution_count": 3,
   "id": "bd39e507-1bdf-4e89-9320-e1373c9c40eb",
   "metadata": {},
   "outputs": [
    {
     "data": {
      "text/plain": [
       "'\\n1. Mean sales for Region A: 11.8, Mean sales for Region B: 20.2\\n2. Mode of survey responses: 4\\n3. Median salary for Department A: 5750, Median salary for Department B: 5500\\n4. Range of stock prices: 1.2\\n5. Perform a t-test to determine if there is a significant difference in the mean scores between Group A and Group B.\\n6. Correlation coefficient between advertising expenditure and sales: 0.964\\n7. Standard deviation of heights: 8.97\\n'"
      ]
     },
     "execution_count": 3,
     "metadata": {},
     "output_type": "execute_result"
    }
   ],
   "source": [
    "\"\"\"\n",
    "1. Mean sales for Region A: 11.8, Mean sales for Region B: 20.2\n",
    "2. Mode of survey responses: 4\n",
    "3. Median salary for Department A: 5750, Median salary for Department B: 5500\n",
    "4. Range of stock prices: 1.2\n",
    "5. Perform a t-test to determine if there is a significant difference in the mean scores between Group A and Group B.\n",
    "6. Correlation coefficient between advertising expenditure and sales: 0.964\n",
    "7. Standard deviation of heights: 8.97\n",
    "\"\"\""
   ]
  },
  {
   "cell_type": "code",
   "execution_count": null,
   "id": "23a7ef58-5316-4c18-864a-5d12584d1a56",
   "metadata": {},
   "outputs": [],
   "source": []
  },
  {
   "cell_type": "code",
   "execution_count": null,
   "id": "7ffdc784-4955-4e84-b4d0-27068161e27b",
   "metadata": {},
   "outputs": [],
   "source": [
    "\"\"\" \n",
    "\n",
    "9 ANOVA: There is a significant difference in the mean recovery times between Medication A and Medication B.\n",
    "10 The 75th percentile of the feedback ratings is 9.\n",
    "11. Hypothesis test: The mean weight differs significantly from 10 grams.\n",
    "12. Chi-square test: There is a significant difference in the click-through rates between Design A and Design B.\n",
    "13. The 95% confidence interval for the population mean satisfaction score is [6.5, 8.4].\n",
    "14. Simple linear regression: Predicting performance based on temperature.\n",
    "15. Mann-Whitney U test: There is a significant difference in the median preferences between Group A and Group B.\n",
    "\"\"\""
   ]
  },
  {
   "cell_type": "code",
   "execution_count": null,
   "id": "e659daf9-143d-41cd-9d9d-204030df9bdc",
   "metadata": {},
   "outputs": [],
   "source": []
  },
  {
   "cell_type": "code",
   "execution_count": null,
   "id": "b214972d-e6f3-4c46-9c4a-0bb073a8e7cc",
   "metadata": {},
   "outputs": [],
   "source": [
    "\"\"\" \n",
    "16. The interquartile range (IQR) of the ages is 35.\n",
    "17. Kruskal-Wallis test: There is a significant difference in the median accuracy scores between the algorithms.\n",
    "18. Simple linear regression: Predicting sales based on price.\n",
    "19. The standard error of the mean satisfaction score is calculated based on the given data.\n",
    "20. Multiple regression analysis: Predicting sales based on advertising expenditure.\n",
    "\n",
    "\"\"\"\n"
   ]
  },
  {
   "cell_type": "code",
   "execution_count": null,
   "id": "cdbb1199-357d-4eb1-9cff-388513ad1c1a",
   "metadata": {},
   "outputs": [],
   "source": []
  },
  {
   "cell_type": "code",
   "execution_count": null,
   "id": "ca746bdd-a3b5-4739-aaba-73c11605f6d7",
   "metadata": {},
   "outputs": [],
   "source": []
  },
  {
   "cell_type": "code",
   "execution_count": null,
   "id": "375a800a-93bd-47fd-bb63-5be2ade01d69",
   "metadata": {},
   "outputs": [],
   "source": []
  },
  {
   "cell_type": "code",
   "execution_count": null,
   "id": "4170f3f2-ab2a-4ba1-b65e-49cd9145a485",
   "metadata": {},
   "outputs": [],
   "source": []
  },
  {
   "cell_type": "code",
   "execution_count": null,
   "id": "9c70ab0f-d3a4-4d06-928f-465272129f13",
   "metadata": {},
   "outputs": [],
   "source": []
  },
  {
   "cell_type": "code",
   "execution_count": null,
   "id": "2f7f0125-fc97-4c00-9868-eb2284d6aa66",
   "metadata": {},
   "outputs": [],
   "source": []
  },
  {
   "cell_type": "code",
   "execution_count": null,
   "id": "b297df62-d59c-4e5b-91dc-72fdf73729a6",
   "metadata": {},
   "outputs": [],
   "source": []
  },
  {
   "cell_type": "code",
   "execution_count": null,
   "id": "4eef1159-27e5-4beb-bc35-36bd6263a6f8",
   "metadata": {},
   "outputs": [],
   "source": []
  },
  {
   "cell_type": "code",
   "execution_count": null,
   "id": "5a7e9b96-03e2-4f19-b337-90e6b1d1c374",
   "metadata": {},
   "outputs": [],
   "source": []
  },
  {
   "cell_type": "code",
   "execution_count": null,
   "id": "33e9576a-e321-4c67-bf97-569df45869f8",
   "metadata": {},
   "outputs": [],
   "source": []
  },
  {
   "cell_type": "code",
   "execution_count": null,
   "id": "46fa4e48-9225-42a4-96b7-8f82ca91f991",
   "metadata": {},
   "outputs": [],
   "source": []
  },
  {
   "cell_type": "code",
   "execution_count": null,
   "id": "b4a757fd-e66f-4ef4-9f48-a0da232e3e2a",
   "metadata": {},
   "outputs": [],
   "source": []
  },
  {
   "cell_type": "code",
   "execution_count": null,
   "id": "9f824d96-baa3-4199-9e2c-7253b28ac049",
   "metadata": {},
   "outputs": [],
   "source": []
  },
  {
   "cell_type": "code",
   "execution_count": null,
   "id": "5447125a-db55-40eb-9017-4340bdfe800d",
   "metadata": {},
   "outputs": [],
   "source": []
  },
  {
   "cell_type": "code",
   "execution_count": null,
   "id": "1c8f5277-b406-435d-ae82-0782ac8d31f3",
   "metadata": {},
   "outputs": [],
   "source": []
  },
  {
   "cell_type": "code",
   "execution_count": null,
   "id": "19b72446-6a94-4eff-b9aa-24ed2007f664",
   "metadata": {},
   "outputs": [],
   "source": []
  },
  {
   "cell_type": "code",
   "execution_count": null,
   "id": "145855e1-a0c8-4837-a5d6-22d1b08526c5",
   "metadata": {},
   "outputs": [],
   "source": []
  },
  {
   "cell_type": "code",
   "execution_count": null,
   "id": "4e8d663c-83ae-4b22-b8be-b7bf0d4c3d83",
   "metadata": {},
   "outputs": [],
   "source": []
  },
  {
   "cell_type": "code",
   "execution_count": null,
   "id": "ebcef28f-96e7-427b-a3bb-a33c3d1cd962",
   "metadata": {},
   "outputs": [],
   "source": []
  },
  {
   "cell_type": "code",
   "execution_count": null,
   "id": "73966dd1-62be-461b-90bd-e04b7884c012",
   "metadata": {},
   "outputs": [],
   "source": []
  },
  {
   "cell_type": "code",
   "execution_count": null,
   "id": "f4f4bd01-8215-4186-a055-7e5fe995f0f5",
   "metadata": {},
   "outputs": [],
   "source": []
  },
  {
   "cell_type": "code",
   "execution_count": null,
   "id": "b3afcc4b-e9de-4de0-94ae-96f225fb07dd",
   "metadata": {},
   "outputs": [],
   "source": []
  },
  {
   "cell_type": "code",
   "execution_count": null,
   "id": "7804436e-7997-43cc-b1c9-caf848fb4e08",
   "metadata": {},
   "outputs": [],
   "source": []
  },
  {
   "cell_type": "code",
   "execution_count": null,
   "id": "af3c8260-28ef-459f-a82e-b7dfdfc40b97",
   "metadata": {},
   "outputs": [],
   "source": []
  },
  {
   "cell_type": "code",
   "execution_count": null,
   "id": "04c0acd4-7195-4302-aa9a-96c2548d36e9",
   "metadata": {},
   "outputs": [],
   "source": []
  },
  {
   "cell_type": "code",
   "execution_count": null,
   "id": "7fda8594-2c59-4be4-9302-d57a7d0f2031",
   "metadata": {},
   "outputs": [],
   "source": []
  },
  {
   "cell_type": "code",
   "execution_count": null,
   "id": "92e83f64-dd6a-4f73-b405-73b58095a553",
   "metadata": {},
   "outputs": [],
   "source": []
  },
  {
   "cell_type": "code",
   "execution_count": null,
   "id": "8df03aa2-5f7e-4ec9-862b-7feac860c67f",
   "metadata": {},
   "outputs": [],
   "source": []
  },
  {
   "cell_type": "code",
   "execution_count": null,
   "id": "adae5613-1415-4c0e-b0a6-3b29379d65a1",
   "metadata": {},
   "outputs": [],
   "source": []
  },
  {
   "cell_type": "code",
   "execution_count": null,
   "id": "47257abc-b837-4980-b7c2-bb3176262dc3",
   "metadata": {},
   "outputs": [],
   "source": []
  },
  {
   "cell_type": "code",
   "execution_count": null,
   "id": "a7fb29df-9b21-489d-bb7c-c25a6d8e081b",
   "metadata": {},
   "outputs": [],
   "source": []
  },
  {
   "cell_type": "code",
   "execution_count": null,
   "id": "70a5740b-b2f6-40c7-acfc-a8167eb996a9",
   "metadata": {},
   "outputs": [],
   "source": []
  },
  {
   "cell_type": "code",
   "execution_count": null,
   "id": "84231c84-ac3a-43cc-8c41-45304bf1e94c",
   "metadata": {},
   "outputs": [],
   "source": []
  },
  {
   "cell_type": "code",
   "execution_count": null,
   "id": "92fe4f72-46ac-48f0-9ba7-658a1a270195",
   "metadata": {},
   "outputs": [],
   "source": []
  },
  {
   "cell_type": "code",
   "execution_count": null,
   "id": "c6925c33-ba5a-4e67-8502-5201180aedcf",
   "metadata": {},
   "outputs": [],
   "source": []
  },
  {
   "cell_type": "code",
   "execution_count": null,
   "id": "eb1a9992-4454-4216-a808-7065d87c1966",
   "metadata": {},
   "outputs": [],
   "source": []
  },
  {
   "cell_type": "code",
   "execution_count": null,
   "id": "2b9be046-4920-42ae-95ec-da2a2e925649",
   "metadata": {},
   "outputs": [],
   "source": []
  },
  {
   "cell_type": "code",
   "execution_count": null,
   "id": "8b97dd79-d9a7-4243-a3a7-144ea16de4aa",
   "metadata": {},
   "outputs": [],
   "source": []
  },
  {
   "cell_type": "code",
   "execution_count": null,
   "id": "8c9c3b68-1d6d-4ff3-b3f1-c3d00cd22665",
   "metadata": {},
   "outputs": [],
   "source": []
  }
 ],
 "metadata": {
  "kernelspec": {
   "display_name": "Python 3 (ipykernel)",
   "language": "python",
   "name": "python3"
  },
  "language_info": {
   "codemirror_mode": {
    "name": "ipython",
    "version": 3
   },
   "file_extension": ".py",
   "mimetype": "text/x-python",
   "name": "python",
   "nbconvert_exporter": "python",
   "pygments_lexer": "ipython3",
   "version": "3.10.6"
  }
 },
 "nbformat": 4,
 "nbformat_minor": 5
}
