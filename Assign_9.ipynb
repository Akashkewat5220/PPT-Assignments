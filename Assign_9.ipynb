{
 "cells": [
  {
   "cell_type": "code",
   "execution_count": 1,
   "id": "deeea1df-273c-4267-9429-c2dbb232765c",
   "metadata": {},
   "outputs": [
    {
     "name": "stdout",
     "output_type": "stream",
     "text": [
      "[1, 2]\n"
     ]
    }
   ],
   "source": [
    "def twoSum(numbers, target):\n",
    "    left, right = 0, len(numbers) - 1\n",
    "    while left < right:\n",
    "        curr_sum = numbers[left] + numbers[right]\n",
    "        if curr_sum == target:\n",
    "            return [left + 1, right + 1]  # Adding 1 to convert to 1-indexed\n",
    "        elif curr_sum < target:\n",
    "            left += 1\n",
    "        else:\n",
    "            right -= 1\n",
    "    return [-1, -1]  # If no solution found\n",
    "\n",
    "# Example usage:\n",
    "numbers = [2, 7, 11, 15]\n",
    "target = 9\n",
    "print(twoSum(numbers, target))  # Output: [1, 2]\n"
   ]
  },
  {
   "cell_type": "code",
   "execution_count": 2,
   "id": "885e1ff6-9053-45f9-b00e-9c1178fe059d",
   "metadata": {},
   "outputs": [],
   "source": [
    "#  2"
   ]
  },
  {
   "cell_type": "code",
   "execution_count": 3,
   "id": "15f1da79-ff92-4d81-9feb-cce4e488f1d6",
   "metadata": {},
   "outputs": [
    {
     "name": "stdout",
     "output_type": "stream",
     "text": [
      "[3, 4]\n"
     ]
    }
   ],
   "source": [
    "def searchRange(nums, target):\n",
    "    left = findIndex(nums, target, True)\n",
    "    if left == len(nums) or nums[left] != target:\n",
    "        return [-1, -1]\n",
    "    right = findIndex(nums, target, False) - 1\n",
    "    return [left, right]\n",
    "\n",
    "def findIndex(nums, target, left):\n",
    "    low, high = 0, len(nums)\n",
    "    while low < high:\n",
    "        mid = (low + high) // 2\n",
    "        if nums[mid] > target or (left and target == nums[mid]):\n",
    "            high = mid\n",
    "        else:\n",
    "            low = mid + 1\n",
    "    return low\n",
    "\n",
    "# Example usage:\n",
    "nums = [5, 7, 7, 8, 8, 10]\n",
    "target = 8\n",
    "print(searchRange(nums, target))  # Output: [3, 4]\n"
   ]
  },
  {
   "cell_type": "code",
   "execution_count": null,
   "id": "fa340218-daae-463e-a7a1-45be73bd7bf2",
   "metadata": {},
   "outputs": [],
   "source": []
  },
  {
   "cell_type": "code",
   "execution_count": 4,
   "id": "479302aa-8072-492b-a80d-a6e8318c5c72",
   "metadata": {},
   "outputs": [],
   "source": [
    "# 3 "
   ]
  },
  {
   "cell_type": "code",
   "execution_count": 5,
   "id": "40fcbe6e-2ca8-4dc4-af33-d746f8433d66",
   "metadata": {},
   "outputs": [
    {
     "name": "stdout",
     "output_type": "stream",
     "text": [
      "2\n"
     ]
    }
   ],
   "source": [
    "def findPeakElement(nums):\n",
    "    left, right = 0, len(nums) - 1\n",
    "    while left < right:\n",
    "        mid = (left + right) // 2\n",
    "        if nums[mid] < nums[mid + 1]:\n",
    "            left = mid + 1\n",
    "        else:\n",
    "            right = mid\n",
    "    return left\n",
    "\n",
    "# Example usage:\n",
    "nums = [1, 2, 3, 1]\n",
    "print(findPeakElement(nums))  # Output: 2\n"
   ]
  },
  {
   "cell_type": "code",
   "execution_count": null,
   "id": "700e91c4-87e3-4088-a8d1-b5d4bf31715a",
   "metadata": {},
   "outputs": [],
   "source": []
  },
  {
   "cell_type": "code",
   "execution_count": 6,
   "id": "0ee4538b-e1d2-4500-a793-d33e06ae0e3f",
   "metadata": {},
   "outputs": [],
   "source": [
    "# 4 "
   ]
  },
  {
   "cell_type": "code",
   "execution_count": 7,
   "id": "a1acf69b-fa50-4b63-9273-3586811cd3ff",
   "metadata": {},
   "outputs": [
    {
     "name": "stdout",
     "output_type": "stream",
     "text": [
      "2\n"
     ]
    }
   ],
   "source": [
    "def searchInsert(nums, target):\n",
    "    left, right = 0, len(nums)\n",
    "    while left < right:\n",
    "        mid = (left + right) // 2\n",
    "        if nums[mid] < target:\n",
    "            left = mid + 1\n",
    "        else:\n",
    "            right = mid\n",
    "    return left\n",
    "\n",
    "# Example usage:\n",
    "nums = [1, 3, 5, 6]\n",
    "target = 5\n",
    "print(searchInsert(nums, target))  # Output: 2\n"
   ]
  },
  {
   "cell_type": "code",
   "execution_count": null,
   "id": "8673acc5-b35b-41c2-abfa-5ff94f4fbb73",
   "metadata": {},
   "outputs": [],
   "source": []
  },
  {
   "cell_type": "code",
   "execution_count": 8,
   "id": "ca64e2c4-e56c-4490-9ae3-8512625ff0e5",
   "metadata": {},
   "outputs": [],
   "source": [
    "# 5 "
   ]
  },
  {
   "cell_type": "code",
   "execution_count": 9,
   "id": "c0195b2a-ea31-4984-8173-e626a8e4b2d0",
   "metadata": {},
   "outputs": [
    {
     "name": "stdout",
     "output_type": "stream",
     "text": [
      "4\n"
     ]
    }
   ],
   "source": [
    "def majorityElement(nums):\n",
    "    count = 0\n",
    "    candidate = None\n",
    "    for num in nums:\n",
    "        if count == 0:\n",
    "            candidate = num\n",
    "        count += 1 if num == candidate else -1\n",
    "    return candidate\n",
    "\n",
    "# Example usage:\n",
    "nums = [3, 3, 4, 2, 4, 4, 2, 4, 4]\n",
    "print(majorityElement(nums))  # Output: 4\n"
   ]
  },
  {
   "cell_type": "code",
   "execution_count": null,
   "id": "7c56ad51-0ae8-4c79-ba33-262a83505ef9",
   "metadata": {},
   "outputs": [],
   "source": []
  },
  {
   "cell_type": "code",
   "execution_count": null,
   "id": "04f4b789-7ede-401b-abcd-ebf078ddc66a",
   "metadata": {},
   "outputs": [],
   "source": [
    "# "
   ]
  },
  {
   "cell_type": "code",
   "execution_count": null,
   "id": "3dee2f55-df14-45e6-8313-a33e6574bf7f",
   "metadata": {},
   "outputs": [],
   "source": []
  },
  {
   "cell_type": "code",
   "execution_count": null,
   "id": "36cfed55-65b6-4fbb-85e5-c033d6beb97e",
   "metadata": {},
   "outputs": [],
   "source": []
  },
  {
   "cell_type": "code",
   "execution_count": null,
   "id": "240e9abb-0a65-4e43-983c-b8605891acd6",
   "metadata": {},
   "outputs": [],
   "source": []
  },
  {
   "cell_type": "code",
   "execution_count": null,
   "id": "ebd409bb-48a8-43b5-a63d-cd761df2fc39",
   "metadata": {},
   "outputs": [],
   "source": []
  },
  {
   "cell_type": "code",
   "execution_count": null,
   "id": "04617687-b09b-47ba-bdff-ed2de2fc5bd1",
   "metadata": {},
   "outputs": [],
   "source": []
  }
 ],
 "metadata": {
  "kernelspec": {
   "display_name": "Python 3 (ipykernel)",
   "language": "python",
   "name": "python3"
  },
  "language_info": {
   "codemirror_mode": {
    "name": "ipython",
    "version": 3
   },
   "file_extension": ".py",
   "mimetype": "text/x-python",
   "name": "python",
   "nbconvert_exporter": "python",
   "pygments_lexer": "ipython3",
   "version": "3.10.6"
  }
 },
 "nbformat": 4,
 "nbformat_minor": 5
}
