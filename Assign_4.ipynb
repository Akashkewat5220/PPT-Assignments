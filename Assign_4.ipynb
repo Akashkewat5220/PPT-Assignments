{
 "cells": [
  {
   "cell_type": "code",
   "execution_count": null,
   "id": "397ca5c9-d73c-4a4a-9790-476c829636e9",
   "metadata": {},
   "outputs": [],
   "source": []
  },
  {
   "cell_type": "code",
   "execution_count": 1,
   "id": "56138d55-a96e-4742-9257-d3f71f8296a0",
   "metadata": {},
   "outputs": [],
   "source": [
    "def find_common_elements(arr1, arr2, arr3):\n",
    "    pointer1 = pointer2 = pointer3 = 0\n",
    "    result = []\n",
    "    \n",
    "    while pointer1 < len(arr1) and pointer2 < len(arr2) and pointer3 < len(arr3):\n",
    "        if arr1[pointer1] == arr2[pointer2] == arr3[pointer3]:\n",
    "            result.append(arr1[pointer1])\n",
    "            pointer1 += 1\n",
    "            pointer2 += 1\n",
    "            pointer3 += 1\n",
    "        elif arr1[pointer1] < arr2[pointer2]:\n",
    "            pointer1 += 1\n",
    "        elif arr2[pointer2] < arr3[pointer3]:\n",
    "            pointer2 += 1\n",
    "        else:\n",
    "            pointer3 += 1\n",
    "    \n",
    "    return result\n"
   ]
  },
  {
   "cell_type": "code",
   "execution_count": 2,
   "id": "f093524f-2a54-4a97-a303-04be3be7be0d",
   "metadata": {},
   "outputs": [
    {
     "name": "stdout",
     "output_type": "stream",
     "text": [
      "[1, 5]\n"
     ]
    }
   ],
   "source": [
    "arr1 = [1, 2, 3, 4, 5]\n",
    "arr2 = [1, 2, 5, 7, 9]\n",
    "arr3 = [1, 3, 4, 5, 8]\n",
    "\n",
    "result = find_common_elements(arr1, arr2, arr3)\n",
    "print(result)  # Output: [1, 5]\n"
   ]
  },
  {
   "cell_type": "code",
   "execution_count": null,
   "id": "5f75deae-16a2-4d57-bd75-a5a973a5ec69",
   "metadata": {},
   "outputs": [],
   "source": []
  },
  {
   "cell_type": "markdown",
   "id": "cc3a8d90-d59a-47af-a8ca-b7ccd897d18d",
   "metadata": {},
   "source": [
    "ANSWER 2"
   ]
  },
  {
   "cell_type": "code",
   "execution_count": 5,
   "id": "0607100e-1004-41fd-9966-3659fead0816",
   "metadata": {},
   "outputs": [],
   "source": [
    "def find_disjoint_nums(nums1, nums2):\n",
    "    distinct_nums1 = []\n",
    "    distinct_nums2 = []\n",
    "\n",
    "    set_nums1 = set(nums1)\n",
    "    set_nums2 = set(nums2)\n",
    "\n",
    "    for num in nums1:\n",
    "        if num not in set_nums2:\n",
    "            distinct_nums1.append(num)\n",
    "\n",
    "    for num in nums2:\n",
    "        if num not in set_nums1:\n",
    "            distinct_nums2.append(num)\n",
    "\n",
    "    return [distinct_nums1, distinct_nums2]\n"
   ]
  },
  {
   "cell_type": "code",
   "execution_count": 6,
   "id": "7a9aeb2d-5850-4926-ac7f-cbc12ec33b01",
   "metadata": {},
   "outputs": [
    {
     "name": "stdout",
     "output_type": "stream",
     "text": [
      "[[1, 3], [4, 6]]\n"
     ]
    }
   ],
   "source": [
    "nums1 = [1, 2, 3]\n",
    "nums2 = [2, 4, 6]\n",
    "\n",
    "result = find_disjoint_nums(nums1, nums2)\n",
    "print(result)  # Output: [[1, 3], [4, 6]]\n"
   ]
  },
  {
   "cell_type": "code",
   "execution_count": null,
   "id": "01dc6153-f23d-442d-997c-0393fa483b78",
   "metadata": {},
   "outputs": [],
   "source": []
  },
  {
   "cell_type": "markdown",
   "id": "80309381-49a9-4fae-9c2d-a7a8f446272c",
   "metadata": {},
   "source": [
    "ANSWER 3"
   ]
  },
  {
   "cell_type": "code",
   "execution_count": null,
   "id": "7c131018-f7fb-4007-9200-c52508d20acd",
   "metadata": {},
   "outputs": [],
   "source": []
  },
  {
   "cell_type": "code",
   "execution_count": 8,
   "id": "480b5a9e-c3fb-43cd-a850-06c6f2acbe43",
   "metadata": {},
   "outputs": [],
   "source": [
    "def transpose_matrix(matrix):\n",
    "    rows = len(matrix)\n",
    "    cols = len(matrix[0])\n",
    "\n",
    "    result = [[0] * rows for _ in range(cols)]\n",
    "\n",
    "    for i in range(rows):\n",
    "        for j in range(cols):\n",
    "            result[j][i] = matrix[i][j]\n",
    "\n",
    "    return result\n"
   ]
  },
  {
   "cell_type": "code",
   "execution_count": 9,
   "id": "7bf137f7-75b3-4cc1-ba31-02d7946c3dd5",
   "metadata": {},
   "outputs": [
    {
     "name": "stdout",
     "output_type": "stream",
     "text": [
      "[[1, 4, 7], [2, 5, 8], [3, 6, 9]]\n"
     ]
    }
   ],
   "source": [
    "matrix = [[1, 2, 3], [4, 5, 6], [7, 8, 9]]\n",
    "\n",
    "result = transpose_matrix(matrix)\n",
    "print(result)  # Output: [[1, 4, 7], [2, 5, 8], [3, 6, 9]]\n"
   ]
  },
  {
   "cell_type": "code",
   "execution_count": null,
   "id": "4ca543e9-4ed0-4833-8b5e-bee8233dca3b",
   "metadata": {},
   "outputs": [],
   "source": []
  },
  {
   "cell_type": "markdown",
   "id": "c9a085b9-003c-4e47-81a2-d1bba3e82b0e",
   "metadata": {},
   "source": [
    "ANSWER 4"
   ]
  },
  {
   "cell_type": "code",
   "execution_count": 1,
   "id": "47fe7057-1e17-4e7b-8083-dc654ed1f6a0",
   "metadata": {},
   "outputs": [],
   "source": [
    "def arrayPairSum(nums):\n",
    "    nums.sort()\n",
    "    max_sum = 0\n",
    "\n",
    "    for i in range(0, len(nums), 2):\n",
    "        max_sum += nums[i]\n",
    "\n",
    "    return max_sum\n"
   ]
  },
  {
   "cell_type": "code",
   "execution_count": 2,
   "id": "67456c46-bc20-4b1e-8bc2-8ad8ee29efd8",
   "metadata": {},
   "outputs": [
    {
     "name": "stdout",
     "output_type": "stream",
     "text": [
      "4\n"
     ]
    }
   ],
   "source": [
    "nums = [1, 4, 3, 2]\n",
    "\n",
    "result = arrayPairSum(nums)\n",
    "print(result)  # Output: 4\n"
   ]
  },
  {
   "cell_type": "code",
   "execution_count": null,
   "id": "dc783f9b-f412-4d6d-8c44-73ba70321340",
   "metadata": {},
   "outputs": [],
   "source": []
  },
  {
   "cell_type": "markdown",
   "id": "f9b6b432-8cba-495d-843f-bef504b51484",
   "metadata": {},
   "source": [
    "ANSWER 5"
   ]
  },
  {
   "cell_type": "code",
   "execution_count": 4,
   "id": "c5bff63e-33c7-40d1-b6c3-dca8bffc5167",
   "metadata": {},
   "outputs": [],
   "source": [
    "def arrangeCoins(n):\n",
    "    left = 1\n",
    "    right = n\n",
    "\n",
    "    while left <= right:\n",
    "        mid = left + (right - left) // 2\n",
    "        coins_required = (mid * (mid + 1)) // 2\n",
    "\n",
    "        if coins_required <= n:\n",
    "            left = mid + 1\n",
    "        else:\n",
    "            right = mid - 1\n",
    "\n",
    "    return right\n"
   ]
  },
  {
   "cell_type": "code",
   "execution_count": 5,
   "id": "ef0af40d-2116-4d05-bdea-7b97915d9dd5",
   "metadata": {},
   "outputs": [
    {
     "name": "stdout",
     "output_type": "stream",
     "text": [
      "2\n"
     ]
    }
   ],
   "source": [
    "n = 5\n",
    "\n",
    "result = arrangeCoins(n)\n",
    "print(result)  # Output: 2\n"
   ]
  },
  {
   "cell_type": "code",
   "execution_count": null,
   "id": "fa79f74d-fbea-4537-961e-b6fd580edbe4",
   "metadata": {},
   "outputs": [],
   "source": []
  },
  {
   "cell_type": "markdown",
   "id": "236e06f9-ab1d-4b1f-a67f-2baf9572d0a7",
   "metadata": {},
   "source": [
    "ANSWER 6"
   ]
  },
  {
   "cell_type": "code",
   "execution_count": 6,
   "id": "ebf78e81-f2d9-41ae-be86-8e975af85651",
   "metadata": {},
   "outputs": [],
   "source": [
    "def sortedSquares(nums):\n",
    "    result = []\n",
    "\n",
    "    for num in nums:\n",
    "        result.append(num * num)\n",
    "\n",
    "    result.sort()\n",
    "\n",
    "    return result\n"
   ]
  },
  {
   "cell_type": "code",
   "execution_count": 7,
   "id": "68e2ea82-6d04-40b4-8009-fef6bae1d852",
   "metadata": {},
   "outputs": [
    {
     "name": "stdout",
     "output_type": "stream",
     "text": [
      "[0, 1, 9, 16, 100]\n"
     ]
    }
   ],
   "source": [
    "nums = [-4, -1, 0, 3, 10]\n",
    "\n",
    "result = sortedSquares(nums)\n",
    "print(result)  # Output: [0, 1, 9, 16, 100]\n"
   ]
  },
  {
   "cell_type": "code",
   "execution_count": null,
   "id": "f4efd97e-0f50-407d-97e7-4ab5020e86af",
   "metadata": {},
   "outputs": [],
   "source": []
  },
  {
   "cell_type": "markdown",
   "id": "1170b564-eb7e-4c16-8409-36efa0314c8d",
   "metadata": {},
   "source": [
    "ANSWER 8"
   ]
  },
  {
   "cell_type": "code",
   "execution_count": null,
   "id": "e9b9544f-84ec-4bc6-890c-1aed52b136b7",
   "metadata": {},
   "outputs": [],
   "source": []
  },
  {
   "cell_type": "code",
   "execution_count": null,
   "id": "b209a35d-d0a7-4a11-9e32-e04b6a64e854",
   "metadata": {},
   "outputs": [],
   "source": []
  },
  {
   "cell_type": "code",
   "execution_count": null,
   "id": "327ca3d4-2d42-4357-8198-d04e1d420339",
   "metadata": {},
   "outputs": [],
   "source": []
  },
  {
   "cell_type": "code",
   "execution_count": null,
   "id": "223f3bbb-ce76-4b81-ab59-644a8159a3b0",
   "metadata": {},
   "outputs": [],
   "source": []
  }
 ],
 "metadata": {
  "kernelspec": {
   "display_name": "Python 3 (ipykernel)",
   "language": "python",
   "name": "python3"
  },
  "language_info": {
   "codemirror_mode": {
    "name": "ipython",
    "version": 3
   },
   "file_extension": ".py",
   "mimetype": "text/x-python",
   "name": "python",
   "nbconvert_exporter": "python",
   "pygments_lexer": "ipython3",
   "version": "3.10.6"
  }
 },
 "nbformat": 4,
 "nbformat_minor": 5
}
