{
 "cells": [
  {
   "cell_type": "markdown",
   "id": "fca91058-0251-4794-8a40-c343f12575a9",
   "metadata": {},
   "source": [
    "# 1"
   ]
  },
  {
   "cell_type": "code",
   "execution_count": 1,
   "id": "1e9b5aeb-bae8-4c34-9419-4819fe9a7894",
   "metadata": {},
   "outputs": [
    {
     "name": "stdout",
     "output_type": "stream",
     "text": [
      "!dlroW ,olleH\n"
     ]
    }
   ],
   "source": [
    "def reverse_string(input_str):\n",
    "    reversed_str = \"\"\n",
    "    for char in input_str:\n",
    "        reversed_str = char + reversed_str\n",
    "    return reversed_str\n",
    "\n",
    "# Example usage:\n",
    "input_str = \"Hello, World!\"\n",
    "reversed_str = reverse_string(input_str)\n",
    "print(reversed_str)  # Output: \"!dlroW ,olleH\"\n"
   ]
  },
  {
   "cell_type": "code",
   "execution_count": null,
   "id": "bb63684b-d2b2-4472-bc38-c1d267324d1f",
   "metadata": {},
   "outputs": [],
   "source": []
  },
  {
   "cell_type": "markdown",
   "id": "cbe104c3-bfb3-414f-be4d-66559ac24739",
   "metadata": {},
   "source": [
    " # 2"
   ]
  },
  {
   "cell_type": "code",
   "execution_count": 2,
   "id": "3100da4c-66b4-4a63-a8e3-39a5b73fe3d3",
   "metadata": {},
   "outputs": [
    {
     "name": "stdout",
     "output_type": "stream",
     "text": [
      "True\n"
     ]
    }
   ],
   "source": [
    "def is_palindrome(input_str):\n",
    "    input_str = input_str.lower()  # Convert to lowercase for case-insensitive comparison\n",
    "    reversed_str = reverse_string(input_str)\n",
    "    return input_str == reversed_str\n",
    "\n",
    "# Example usage:\n",
    "input_str = \"Madam\"\n",
    "print(is_palindrome(input_str))  # Output: True\n"
   ]
  },
  {
   "cell_type": "code",
   "execution_count": null,
   "id": "2b09df09-6540-4f38-85da-401e6f3514e9",
   "metadata": {},
   "outputs": [],
   "source": []
  },
  {
   "cell_type": "markdown",
   "id": "78bf9a76-d1b8-45ce-bcf7-5c961058f587",
   "metadata": {},
   "source": [
    "# 3"
   ]
  },
  {
   "cell_type": "code",
   "execution_count": 3,
   "id": "57f8bc23-d02c-4b08-91e3-64a7f6735d49",
   "metadata": {},
   "outputs": [
    {
     "name": "stdout",
     "output_type": "stream",
     "text": [
      "9\n"
     ]
    }
   ],
   "source": [
    "def find_largest_element(input_list):\n",
    "    largest_element = input_list[0]\n",
    "    for num in input_list:\n",
    "        if num > largest_element:\n",
    "            largest_element = num\n",
    "    return largest_element\n",
    "\n",
    "# Example usage:\n",
    "numbers = [4, 9, 2, 7, 5]\n",
    "largest_num = find_largest_element(numbers)\n",
    "print(largest_num)  # Output: 9\n"
   ]
  },
  {
   "cell_type": "code",
   "execution_count": null,
   "id": "54c9ac5d-0998-403c-84fd-aaa610d94cf5",
   "metadata": {},
   "outputs": [],
   "source": []
  },
  {
   "cell_type": "markdown",
   "id": "e54a06de-9a6b-44a5-a7c5-deb318b89ad6",
   "metadata": {},
   "source": [
    "# 4"
   ]
  },
  {
   "cell_type": "code",
   "execution_count": 5,
   "id": "2a933e8f-d0ee-4cc1-ab82-53ad506116aa",
   "metadata": {},
   "outputs": [
    {
     "name": "stdout",
     "output_type": "stream",
     "text": [
      "{1: 2, 2: 2, 3: 3, 4: 1}\n"
     ]
    }
   ],
   "source": [
    "def count_occurrences(input_list):\n",
    "    occurrences = {}\n",
    "    for element in input_list:\n",
    "        if element in occurrences:\n",
    "            occurrences[element] += 1\n",
    "        else:\n",
    "            occurrences[element] = 1\n",
    "    return occurrences\n",
    "\n",
    "# Example usage:\n",
    "elements = [1, 2, 3, 2, 1, 3, 3, 4]\n",
    "occurrences = count_occurrences(elements)\n",
    "print(occurrences)  # Output: {1: 2, 2: 2, 3: 3, 4: 1}\n"
   ]
  },
  {
   "cell_type": "code",
   "execution_count": null,
   "id": "972e3a4c-9314-4fd5-b434-59e28f14a39e",
   "metadata": {},
   "outputs": [],
   "source": []
  },
  {
   "cell_type": "markdown",
   "id": "9f1f11ea-ebd5-4282-9280-0fb7289a76fe",
   "metadata": {},
   "source": [
    "# 5"
   ]
  },
  {
   "cell_type": "code",
   "execution_count": 6,
   "id": "bb545d6f-6eab-41d6-aa7e-b47db973d228",
   "metadata": {},
   "outputs": [],
   "source": [
    "def find_second_largest(input_list):\n",
    "    if len(input_list) < 2:\n",
    "        return None  # List should have at least 2 elements\n",
    "\n",
    "    largest = max(input_list[0], input_list[1])\n",
    "    second_largest = min(input_list[0], input_list[1])\n",
    "\n",
    "    for num in input_list[2:]:\n",
    "        if num > largest:\n",
    "            second_largest = largest\n",
    "            largest = num\n",
    "        elif num > second_largest and num != largest:\n",
    "            second\n"
   ]
  },
  {
   "cell_type": "code",
   "execution_count": null,
   "id": "969033c0-6cee-410a-a4f2-34fa86a3c1af",
   "metadata": {},
   "outputs": [],
   "source": []
  },
  {
   "cell_type": "markdown",
   "id": "b4726949-3bb7-449a-b6d2-bdf8633fada7",
   "metadata": {},
   "source": [
    "# 6"
   ]
  },
  {
   "cell_type": "code",
   "execution_count": 7,
   "id": "b550bb74-2415-4178-81c4-4fb151f9a257",
   "metadata": {},
   "outputs": [
    {
     "name": "stdout",
     "output_type": "stream",
     "text": [
      "[1, 2, 3, 4]\n"
     ]
    }
   ],
   "source": [
    "def remove_duplicates(input_list):\n",
    "    return list(set(input_list))\n",
    "\n",
    "# Example usage:\n",
    "elements = [1, 2, 3, 2, 1, 3, 3, 4]\n",
    "unique_elements = remove_duplicates(elements)\n",
    "print(unique_elements)  # Output: [1, 2, 3, 4]\n"
   ]
  },
  {
   "cell_type": "code",
   "execution_count": null,
   "id": "47564ec4-65f6-4539-a89f-c2cd62455479",
   "metadata": {},
   "outputs": [],
   "source": []
  },
  {
   "cell_type": "markdown",
   "id": "4d468781-b3e1-41fe-8418-10c87c8ab92f",
   "metadata": {},
   "source": [
    "# 7"
   ]
  },
  {
   "cell_type": "code",
   "execution_count": 8,
   "id": "8ec0c6f0-9a6f-4536-a1eb-57ddcb37b8fb",
   "metadata": {},
   "outputs": [
    {
     "name": "stdout",
     "output_type": "stream",
     "text": [
      "120\n"
     ]
    }
   ],
   "source": [
    "def factorial(n):\n",
    "    if n == 0:\n",
    "        return 1\n",
    "    else:\n",
    "        return n * factorial(n - 1)\n",
    "\n",
    "# Example usage:\n",
    "num = 5\n",
    "fact = factorial(num)\n",
    "print(fact)  # Output: 120\n"
   ]
  },
  {
   "cell_type": "code",
   "execution_count": null,
   "id": "57f7e31e-0039-4db7-b107-c7679122e973",
   "metadata": {},
   "outputs": [],
   "source": []
  },
  {
   "cell_type": "markdown",
   "id": "20493c86-6407-4718-9633-dfe07a4e023b",
   "metadata": {},
   "source": [
    "# 8"
   ]
  },
  {
   "cell_type": "code",
   "execution_count": 9,
   "id": "4eda2b34-3ba2-47cd-a066-4addb4baff3b",
   "metadata": {},
   "outputs": [
    {
     "name": "stdout",
     "output_type": "stream",
     "text": [
      "True\n"
     ]
    }
   ],
   "source": [
    "def is_prime(n):\n",
    "    if n <= 1:\n",
    "        return False\n",
    "    for i in range(2, int(n**0.5) + 1):\n",
    "        if n % i == 0:\n",
    "            return False\n",
    "    return True\n",
    "\n",
    "# Example usage:\n",
    "num = 17\n",
    "print(is_prime(num))  # Output: True\n"
   ]
  },
  {
   "cell_type": "code",
   "execution_count": null,
   "id": "0510b714-3242-4e2b-82ae-e6eb78723735",
   "metadata": {},
   "outputs": [],
   "source": []
  },
  {
   "cell_type": "markdown",
   "id": "125bfbd7-faec-4b69-9250-995a39046bfe",
   "metadata": {},
   "source": [
    "# 9"
   ]
  },
  {
   "cell_type": "code",
   "execution_count": 10,
   "id": "5b7c3eff-4c94-4ef8-ba43-2a8de534337e",
   "metadata": {},
   "outputs": [
    {
     "name": "stdout",
     "output_type": "stream",
     "text": [
      "[2, 4, 5, 7, 9]\n"
     ]
    }
   ],
   "source": [
    "def sort_list_ascending(input_list):\n",
    "    return sorted(input_list)\n",
    "\n",
    "# Example usage:\n",
    "numbers = [4, 9, 2, 7, 5]\n",
    "sorted_numbers = sort_list_ascending(numbers)\n",
    "print(sorted_numbers)  # Output: [2, 4, 5, 7, 9]\n"
   ]
  },
  {
   "cell_type": "code",
   "execution_count": null,
   "id": "2a462262-2e1d-461a-88f9-12a787375940",
   "metadata": {},
   "outputs": [],
   "source": []
  },
  {
   "cell_type": "markdown",
   "id": "4d725552-c291-42a6-aec7-10ba93827a27",
   "metadata": {},
   "source": [
    "# 10 "
   ]
  },
  {
   "cell_type": "code",
   "execution_count": 11,
   "id": "df7c2d4c-3b03-468a-8b6d-dd86b6215af3",
   "metadata": {},
   "outputs": [
    {
     "name": "stdout",
     "output_type": "stream",
     "text": [
      "27\n"
     ]
    }
   ],
   "source": [
    "def find_sum(input_list):\n",
    "    return sum(input_list)\n",
    "\n",
    "# Example usage:\n",
    "numbers = [4, 9, 2, 7, 5]\n",
    "sum_of_numbers = find_sum(numbers)\n",
    "print(sum_of_numbers)  # Output: 27\n"
   ]
  },
  {
   "cell_type": "code",
   "execution_count": null,
   "id": "ee1d877f-3c14-4e19-a584-fe59618c4b74",
   "metadata": {},
   "outputs": [],
   "source": []
  },
  {
   "cell_type": "markdown",
   "id": "aeada921-fc3a-470f-870d-c551b38e4c1b",
   "metadata": {},
   "source": [
    "# 11"
   ]
  },
  {
   "cell_type": "code",
   "execution_count": 12,
   "id": "0cb4cd84-ab5a-4ded-99b7-f81872a0dcda",
   "metadata": {},
   "outputs": [
    {
     "name": "stdout",
     "output_type": "stream",
     "text": [
      "[4, 5]\n"
     ]
    }
   ],
   "source": [
    "def find_common_elements(list1, list2):\n",
    "    return list(set(list1) & set(list2))\n",
    "\n",
    "# Example usage:\n",
    "list1 = [1, 2, 3, 4, 5]\n",
    "list2 = [4, 5, 6, 7, 8]\n",
    "common_elements = find_common_elements(list1, list2)\n",
    "print(common_elements)  # Output: [4, 5]\n"
   ]
  },
  {
   "cell_type": "code",
   "execution_count": null,
   "id": "d3766135-73ac-438c-a9d3-702cfed38dde",
   "metadata": {},
   "outputs": [],
   "source": []
  },
  {
   "cell_type": "markdown",
   "id": "7b450e37-258c-4f08-9a22-1f55ad49c780",
   "metadata": {},
   "source": [
    "# 12"
   ]
  },
  {
   "cell_type": "code",
   "execution_count": 13,
   "id": "1b901183-4c98-48db-9fd2-0a73d9332312",
   "metadata": {},
   "outputs": [
    {
     "name": "stdout",
     "output_type": "stream",
     "text": [
      "True\n"
     ]
    }
   ],
   "source": [
    "def is_anagram(str1, str2):\n",
    "    str1 = str1.lower().replace(\" \", \"\")\n",
    "    str2 = str2.lower().replace(\" \", \"\")\n",
    "    return sorted(str1) == sorted(str2)\n",
    "\n",
    "# Example usage:\n",
    "string1 = \"listen\"\n",
    "string2 = \"silent\"\n",
    "print(is_anagram(string1, string2))  # Output: True\n"
   ]
  },
  {
   "cell_type": "markdown",
   "id": "ce6a2548-72e7-4668-bdc7-493e8bd696a3",
   "metadata": {},
   "source": [
    "# 13"
   ]
  },
  {
   "cell_type": "code",
   "execution_count": 14,
   "id": "9ac75aa9-95bd-4fcd-91f6-f2444f56d529",
   "metadata": {},
   "outputs": [
    {
     "name": "stdout",
     "output_type": "stream",
     "text": [
      "['abc', 'acb', 'bac', 'bca', 'cab', 'cba']\n"
     ]
    }
   ],
   "source": [
    "def generate_permutations(input_str):\n",
    "    if len(input_str) == 1:\n",
    "        return [input_str]\n",
    "    \n",
    "    permutations = []\n",
    "    for i in range(len(input_str)):\n",
    "        char = input_str[i]\n",
    "        remaining_chars = input_str[:i] + input_str[i+1:]\n",
    "        for perm in generate_permutations(remaining_chars):\n",
    "            permutations.append(char + perm)\n",
    "    \n",
    "    return permutations\n",
    "\n",
    "# Example usage:\n",
    "input_str = \"abc\"\n",
    "permutations = generate_permutations(input_str)\n",
    "print(permutations)  # Output: ['abc', 'acb', 'bac', 'bca', 'cab', 'cba']\n"
   ]
  },
  {
   "cell_type": "code",
   "execution_count": null,
   "id": "4ff02c1f-8a27-4bf7-ad59-a97017d7e789",
   "metadata": {},
   "outputs": [],
   "source": []
  },
  {
   "cell_type": "markdown",
   "id": "cb70e5ba-d03e-4c49-975f-a2f7c755c397",
   "metadata": {},
   "source": [
    "# 14"
   ]
  },
  {
   "cell_type": "code",
   "execution_count": 15,
   "id": "5132f876-c912-4761-88b8-289eeaf452e3",
   "metadata": {},
   "outputs": [
    {
     "name": "stdout",
     "output_type": "stream",
     "text": [
      "[0, 1, 1, 2, 3, 5, 8, 13]\n"
     ]
    }
   ],
   "source": [
    "def fibonacci_sequence(n):\n",
    "    sequence = [0, 1]\n",
    "    if n <= 2:\n",
    "        return sequence[:n]\n",
    "    for _ in range(n - 2):\n",
    "        sequence.append(sequence[-1] + sequence[-2])\n",
    "    return sequence\n",
    "\n",
    "# Example usage:\n",
    "num_terms = 8\n",
    "fibonacci_seq = fibonacci_sequence(num_terms)\n",
    "print(fibonacci_seq)  # Output: [0, 1, 1, 2, 3, 5, 8, 13]\n"
   ]
  },
  {
   "cell_type": "code",
   "execution_count": null,
   "id": "eca5401f-8af2-41dc-b486-2730ac1dea35",
   "metadata": {},
   "outputs": [],
   "source": []
  },
  {
   "cell_type": "markdown",
   "id": "b4add554-566b-4504-8d78-d948dec5ac2f",
   "metadata": {},
   "source": [
    "# 15"
   ]
  },
  {
   "cell_type": "code",
   "execution_count": 16,
   "id": "7310d29f-2695-42ff-8903-cbb84f2f331d",
   "metadata": {},
   "outputs": [
    {
     "name": "stdout",
     "output_type": "stream",
     "text": [
      "5\n"
     ]
    }
   ],
   "source": [
    "def find_median(numbers):\n",
    "    sorted_numbers = sorted(numbers)\n",
    "    n = len(sorted_numbers)\n",
    "    if n % 2 == 0:\n",
    "        mid1 = sorted_numbers[n // 2 - 1]\n",
    "        mid2 = sorted_numbers[n // 2]\n",
    "        median = (mid1 + mid2) / 2\n",
    "    else:\n",
    "        median = sorted_numbers[n // 2]\n",
    "    return median\n",
    "\n",
    "# Example usage:\n",
    "numbers = [4, 9, 2, 7, 5]\n",
    "median = find_median(numbers)\n",
    "print(median)  # Output: 5\n"
   ]
  },
  {
   "cell_type": "code",
   "execution_count": null,
   "id": "9c59a79b-07c3-42ff-b314-09a55c84dba3",
   "metadata": {},
   "outputs": [],
   "source": []
  },
  {
   "cell_type": "markdown",
   "id": "41394cd8-2fdc-4008-9287-bc23c0c009f3",
   "metadata": {},
   "source": [
    "# 16 "
   ]
  },
  {
   "cell_type": "code",
   "execution_count": 17,
   "id": "f2f480b3-fc45-4ca8-b6a7-fc2eefdd03fd",
   "metadata": {},
   "outputs": [
    {
     "name": "stdout",
     "output_type": "stream",
     "text": [
      "True\n",
      "False\n"
     ]
    }
   ],
   "source": [
    "def is_sorted(input_list):\n",
    "    return all(input_list[i] <= input_list[i+1] for i in range(len(input_list)-1))\n",
    "\n",
    "# Example usage:\n",
    "numbers1 = [1, 2, 3, 4, 5]\n",
    "numbers2 = [4, 2, 6, 8, 10]\n",
    "print(is_sorted(numbers1))  # Output: True\n",
    "print(is_sorted(numbers2))  # Output: False\n"
   ]
  },
  {
   "cell_type": "code",
   "execution_count": null,
   "id": "df17f246-6b70-4b29-a1d5-96ce6b5ba924",
   "metadata": {},
   "outputs": [],
   "source": []
  },
  {
   "cell_type": "markdown",
   "id": "19afadaa-9451-4b49-a0a7-d5a337906b3a",
   "metadata": {},
   "source": [
    "# 17"
   ]
  },
  {
   "cell_type": "code",
   "execution_count": 18,
   "id": "3305727f-ff8f-43af-a61d-521be6b1371a",
   "metadata": {},
   "outputs": [
    {
     "name": "stdout",
     "output_type": "stream",
     "text": [
      "[4, 5]\n"
     ]
    }
   ],
   "source": [
    "def find_intersection(list1, list2):\n",
    "    return list(set(list1) & set(list2))\n",
    "\n",
    "# Example usage:\n",
    "list1 = [1, 2, 3, 4, 5]\n",
    "list2 = [4, 5, 6, 7, 8]\n",
    "intersection = find_intersection(list1, list2)\n",
    "print(intersection)  # Output: [4, 5]\n"
   ]
  },
  {
   "cell_type": "code",
   "execution_count": null,
   "id": "6f8df3de-92f4-4ffa-a411-14a4aac1f7f2",
   "metadata": {},
   "outputs": [],
   "source": []
  },
  {
   "cell_type": "markdown",
   "id": "c2ae0bbc-6166-4c84-b2af-205a1ecf617c",
   "metadata": {},
   "source": [
    "# 18"
   ]
  },
  {
   "cell_type": "code",
   "execution_count": 19,
   "id": "fc7150bf-d3f0-4c5a-a08e-d5526b2de750",
   "metadata": {},
   "outputs": [
    {
     "name": "stdout",
     "output_type": "stream",
     "text": [
      "6\n"
     ]
    }
   ],
   "source": [
    "def find_max_subarray_sum(nums):\n",
    "    max_sum = float('-inf')\n",
    "    current_sum = 0\n",
    "\n",
    "    for num in nums:\n",
    "        current_sum += num\n",
    "        max_sum = max(max_sum, current_sum)\n",
    "        if current_sum < 0:\n",
    "            current_sum = 0\n",
    "\n",
    "    return max_sum\n",
    "\n",
    "# Example usage:\n",
    "numbers = [1, -3, 2, 1, -1, 4, -2]\n",
    "max_sum = find_max_subarray_sum(numbers)\n",
    "print(max_sum)  # Output: 6\n"
   ]
  },
  {
   "cell_type": "code",
   "execution_count": null,
   "id": "42bbd553-f509-4796-ad25-96ba04dd1675",
   "metadata": {},
   "outputs": [],
   "source": []
  },
  {
   "cell_type": "markdown",
   "id": "251f0ac6-2933-4b48-9615-465d96948d11",
   "metadata": {},
   "source": [
    "# 19"
   ]
  },
  {
   "cell_type": "code",
   "execution_count": 20,
   "id": "7ccbfffd-887f-4590-88fe-a1103cf58dd0",
   "metadata": {},
   "outputs": [
    {
     "name": "stdout",
     "output_type": "stream",
     "text": [
      "Hll, Wrld!\n"
     ]
    }
   ],
   "source": [
    "def remove_vowels(input_str):\n",
    "    vowels = 'aeiouAEIOU'\n",
    "    return ''.join(char for char in input_str if char not in vowels)\n",
    "\n",
    "# Example usage:\n",
    "input_str = \"Hello, World!\"\n",
    "no_vowels = remove_vowels(input_str)\n",
    "print(no_vowels)  # Output: \"Hll, Wrld!\"\n"
   ]
  },
  {
   "cell_type": "code",
   "execution_count": null,
   "id": "78774d39-0868-4a05-9cad-d047c3116bfe",
   "metadata": {},
   "outputs": [],
   "source": []
  },
  {
   "cell_type": "markdown",
   "id": "31e3e449-ec08-4d1e-b568-05efcc2eadbf",
   "metadata": {},
   "source": [
    "# 20"
   ]
  },
  {
   "cell_type": "code",
   "execution_count": 21,
   "id": "f941340d-4a67-4ba0-b477-5ba9e34fd765",
   "metadata": {},
   "outputs": [
    {
     "name": "stdout",
     "output_type": "stream",
     "text": [
      "OpenAI. to Welcome World! Hello,\n"
     ]
    }
   ],
   "source": [
    "def reverse_words(sentence):\n",
    "    words = sentence.split()\n",
    "    reversed_words = ' '.join(reversed(words))\n",
    "    return reversed_words\n",
    "\n",
    "# Example usage:\n",
    "sentence = \"Hello, World! Welcome to OpenAI.\"\n",
    "reversed_sentence = reverse_words(sentence)\n",
    "print(reversed_sentence)  # Output: \"OpenAI. to Welcome World! Hello,\"\n"
   ]
  },
  {
   "cell_type": "code",
   "execution_count": null,
   "id": "ac7a114d-8202-4755-aff6-702a525b1b65",
   "metadata": {},
   "outputs": [],
   "source": []
  },
  {
   "cell_type": "markdown",
   "id": "770e0175-b798-4e3e-83db-7706165dd017",
   "metadata": {},
   "source": [
    "# 21"
   ]
  },
  {
   "cell_type": "code",
   "execution_count": 22,
   "id": "875b28f4-6e55-4f4e-9f9a-241a60d7c958",
   "metadata": {},
   "outputs": [
    {
     "name": "stdout",
     "output_type": "stream",
     "text": [
      "True\n"
     ]
    }
   ],
   "source": [
    "def are_anagrams(str1, str2):\n",
    "    str1 = str1.lower().replace(\" \", \"\")\n",
    "    str2 = str2.lower().replace(\" \", \"\")\n",
    "    return sorted(str1) == sorted(str2)\n",
    "\n",
    "# Example usage:\n",
    "string1 = \"listen\"\n",
    "string2 = \"silent\"\n",
    "print(are_anagrams(string1, string2))  # Output: True\n"
   ]
  },
  {
   "cell_type": "code",
   "execution_count": null,
   "id": "83a1a043-abc1-4759-bcba-5df3232026ac",
   "metadata": {},
   "outputs": [],
   "source": []
  },
  {
   "cell_type": "markdown",
   "id": "d015d1d3-ddc5-48bb-9a50-2f249be03d1d",
   "metadata": {},
   "source": [
    "# 22"
   ]
  },
  {
   "cell_type": "code",
   "execution_count": 23,
   "id": "7ca9405a-910f-4747-8b52-0ac61c434783",
   "metadata": {},
   "outputs": [
    {
     "name": "stdout",
     "output_type": "stream",
     "text": [
      "c\n"
     ]
    }
   ],
   "source": [
    "def find_first_non_repeating_char(input_str):\n",
    "    char_count = {}\n",
    "    for char in input_str:\n",
    "        char_count[char] = char_count.get(char, 0) + 1\n",
    "\n",
    "    for char in input_str:\n",
    "        if char_count[char] == 1:\n",
    "            return char\n",
    "\n",
    "    return None\n",
    "\n",
    "# Example usage:\n",
    "input_str = \"abracadabra\"\n",
    "first_non_repeating = find_first_non_repeating_char(input_str)\n",
    "print(first_non_repeating)  # Output: \"c\"\n"
   ]
  },
  {
   "cell_type": "code",
   "execution_count": null,
   "id": "ad047ae7-0527-48e2-adf2-f6db6169f852",
   "metadata": {},
   "outputs": [],
   "source": []
  },
  {
   "cell_type": "markdown",
   "id": "33bc3d47-765d-443b-9103-141293172807",
   "metadata": {},
   "source": [
    "# 23"
   ]
  },
  {
   "cell_type": "code",
   "execution_count": 24,
   "id": "c57ede45-2d9b-4402-87be-e55ca1016fd6",
   "metadata": {},
   "outputs": [
    {
     "name": "stdout",
     "output_type": "stream",
     "text": [
      "[2, 2, 3, 3]\n"
     ]
    }
   ],
   "source": [
    "def find_prime_factors(n):\n",
    "    factors = []\n",
    "    i = 2\n",
    "    while i * i <= n:\n",
    "        if n % i:\n",
    "            i += 1\n",
    "        else:\n",
    "            n //= i\n",
    "            factors.append(i)\n",
    "    if n > 1:\n",
    "        factors.append(n)\n",
    "    return factors\n",
    "\n",
    "# Example usage:\n",
    "number = 36\n",
    "prime_factors = find_prime_factors(number)\n",
    "print(prime_factors)  # Output: [2, 2, 3, 3]\n"
   ]
  },
  {
   "cell_type": "code",
   "execution_count": null,
   "id": "c69ca584-552e-46a6-99d2-daea673c4942",
   "metadata": {},
   "outputs": [],
   "source": []
  },
  {
   "cell_type": "markdown",
   "id": "66eead78-7323-407d-9067-c391f8075321",
   "metadata": {},
   "source": [
    "# 24"
   ]
  },
  {
   "cell_type": "code",
   "execution_count": 25,
   "id": "a919a71b-c690-4c18-b812-1dbca196c273",
   "metadata": {},
   "outputs": [
    {
     "name": "stdout",
     "output_type": "stream",
     "text": [
      "True\n"
     ]
    }
   ],
   "source": [
    "def is_power_of_two(n):\n",
    "    if n <= 0:\n",
    "        return False\n",
    "    return (n & (n - 1)) == 0\n",
    "\n",
    "# Example usage:\n",
    "num = 16\n",
    "print(is_power_of_two(num))  # Output: True\n"
   ]
  },
  {
   "cell_type": "code",
   "execution_count": null,
   "id": "d3c8a7b6-e3f8-4b38-ae85-3eb227fce01e",
   "metadata": {},
   "outputs": [],
   "source": []
  },
  {
   "cell_type": "markdown",
   "id": "ec30bf78-b658-4fff-8927-0dff424f07a4",
   "metadata": {},
   "source": [
    "# 25"
   ]
  },
  {
   "cell_type": "code",
   "execution_count": 27,
   "id": "74795008-2957-46e3-ad5c-dadb82cb5a9a",
   "metadata": {},
   "outputs": [
    {
     "name": "stdout",
     "output_type": "stream",
     "text": [
      "[1, 2, 3, 4, 5, 6, 7, 8]\n"
     ]
    }
   ],
   "source": [
    "def merge_sorted_lists(list1, list2):\n",
    "    merged_list = []\n",
    "    i = j = 0\n",
    "\n",
    "    while i < len(list1) and j < len(list2):\n",
    "        if list1[i] < list2[j]:\n",
    "            merged_list.append(list1[i])\n",
    "            i += 1\n",
    "        else:\n",
    "            merged_list.append(list2[j])\n",
    "            j += 1\n",
    "\n",
    "    merged_list.extend(list1[i:])\n",
    "    merged_list.extend(list2[j:])\n",
    "    return merged_list\n",
    "\n",
    "# Example usage:\n",
    "list1 = [1, 3, 5, 7]\n",
    "list2 = [2, 4, 6, 8]\n",
    "merged_list = merge_sorted_lists(list1, list2)\n",
    "print(merged_list)  # Output: [1, 2, 3, 4, 5, 6, 7, 8]\n"
   ]
  },
  {
   "cell_type": "code",
   "execution_count": null,
   "id": "a1d5b9bb-c3c7-417a-a53c-b127f8929de1",
   "metadata": {},
   "outputs": [],
   "source": []
  },
  {
   "cell_type": "markdown",
   "id": "5c6df846-5607-4edf-a017-06fcf2b579ed",
   "metadata": {},
   "source": [
    "# 26"
   ]
  },
  {
   "cell_type": "code",
   "execution_count": 28,
   "id": "cde1c83d-a431-459d-9c50-7bae6c6854bb",
   "metadata": {},
   "outputs": [
    {
     "name": "stdout",
     "output_type": "stream",
     "text": [
      "[4]\n"
     ]
    }
   ],
   "source": [
    "from collections import Counter\n",
    "\n",
    "def find_mode(numbers):\n",
    "    counter = Counter(numbers)\n",
    "    max_count = max(counter.values())\n",
    "    mode = [num for num, count in counter.items() if count == max_count]\n",
    "    return mode\n",
    "\n",
    "# Example usage:\n",
    "numbers = [1, 2, 3, 2, 4, 4, 4, 5]\n",
    "mode = find_mode(numbers)\n",
    "print(mode)  # Output: [4]\n"
   ]
  },
  {
   "cell_type": "code",
   "execution_count": null,
   "id": "b3011b99-aade-4dae-a44b-65fa1def1116",
   "metadata": {},
   "outputs": [],
   "source": []
  },
  {
   "cell_type": "markdown",
   "id": "cf211cc6-79a8-4882-9494-1aa09f4958a3",
   "metadata": {},
   "source": [
    "# 27"
   ]
  },
  {
   "cell_type": "code",
   "execution_count": 29,
   "id": "eb2fa562-8f80-4630-8ee9-09b8c953fe1e",
   "metadata": {},
   "outputs": [
    {
     "name": "stdout",
     "output_type": "stream",
     "text": [
      "12\n"
     ]
    }
   ],
   "source": [
    "def find_gcd(a, b):\n",
    "    while b != 0:\n",
    "        a, b = b, a % b\n",
    "    return a\n",
    "\n",
    "# Example usage:\n",
    "num1 = 24\n",
    "num2 = 36\n",
    "gcd = find_gcd(num1, num2)\n",
    "print(gcd)  # Output: 12\n"
   ]
  },
  {
   "cell_type": "code",
   "execution_count": null,
   "id": "895e81ec-c2ba-4628-b5c7-d193ee84a18b",
   "metadata": {},
   "outputs": [],
   "source": []
  },
  {
   "cell_type": "markdown",
   "id": "eef4e8b7-1497-4280-997c-929e4337cff9",
   "metadata": {},
   "source": [
    "# 28"
   ]
  },
  {
   "cell_type": "code",
   "execution_count": 30,
   "id": "669c0503-efa4-4ab0-9b78-3a1c5c112f19",
   "metadata": {},
   "outputs": [
    {
     "name": "stdout",
     "output_type": "stream",
     "text": [
      "3.0\n"
     ]
    }
   ],
   "source": [
    "def calculate_square_root(n):\n",
    "    if n < 0:\n",
    "        raise ValueError(\"Square root is not defined for negative numbers.\")\n",
    "    guess = n\n",
    "    while abs(guess * guess - n) > 1e-10:\n",
    "        guess = (guess + n / guess) / 2\n",
    "    return guess\n",
    "\n",
    "# Example usage:\n",
    "num = 9\n",
    "sqrt = calculate_square_root(num)\n",
    "print(sqrt)  # Output: 3.0\n"
   ]
  },
  {
   "cell_type": "code",
   "execution_count": null,
   "id": "afae8934-0ac6-40a8-b625-ebf264de1014",
   "metadata": {},
   "outputs": [],
   "source": []
  },
  {
   "cell_type": "markdown",
   "id": "9fc423bb-8bc7-4988-916b-cd020e376150",
   "metadata": {},
   "source": [
    "# 29"
   ]
  },
  {
   "cell_type": "code",
   "execution_count": 32,
   "id": "70dc1f9f-bc6a-4979-acd8-1be2e5614d2a",
   "metadata": {},
   "outputs": [
    {
     "name": "stdout",
     "output_type": "stream",
     "text": [
      "True\n"
     ]
    }
   ],
   "source": [
    "import re\n",
    "\n",
    "def is_valid_palindrome(input_str):\n",
    "    alphanumeric_str = re.sub(r'[^a-zA-Z0-9]', '', input_str)\n",
    "    alphanumeric_str = alphanumeric_str.lower()\n",
    "    return alphanumeric_str == alphanumeric_str[::-1]\n",
    "\n",
    "# Example usage:\n",
    "string = \"A man, a plan, a canal: Panama!\"\n",
    "print(is_valid_palindrome(string))  # Output: True\n"
   ]
  },
  {
   "cell_type": "code",
   "execution_count": null,
   "id": "0ccecbb5-6aac-4fb3-964f-6ea163841b70",
   "metadata": {},
   "outputs": [],
   "source": []
  },
  {
   "cell_type": "markdown",
   "id": "65f4f972-2dab-4e64-9c1e-7845f5d817d6",
   "metadata": {},
   "source": [
    "# 30"
   ]
  },
  {
   "cell_type": "code",
   "execution_count": 33,
   "id": "5b3d1c37-7795-4d12-a6b4-0fabb2ff471e",
   "metadata": {},
   "outputs": [
    {
     "name": "stdout",
     "output_type": "stream",
     "text": [
      "0\n"
     ]
    }
   ],
   "source": [
    "def find_minimum_in_rotated_sorted_list(nums):\n",
    "    left, right = 0, len(nums) - 1\n",
    "    while left < right:\n",
    "        mid = (left + right) // 2\n",
    "        if nums[mid] > nums[right]:\n",
    "            left = mid + 1\n",
    "        else:\n",
    "            right = mid\n",
    "    return nums[left]\n",
    "\n",
    "# Example usage:\n",
    "numbers = [4, 5, 6, 7, 0, 1, 2]\n",
    "minimum = find_minimum_in_rotated_sorted_list(numbers)\n",
    "print(minimum)  # Output: 0\n"
   ]
  },
  {
   "cell_type": "code",
   "execution_count": null,
   "id": "44d3a556-fd94-4136-bbd3-2f83480e0107",
   "metadata": {},
   "outputs": [],
   "source": []
  },
  {
   "cell_type": "markdown",
   "id": "dc228afa-8a87-4680-b6e8-6aa1f6643cf4",
   "metadata": {},
   "source": [
    "# 31"
   ]
  },
  {
   "cell_type": "code",
   "execution_count": 34,
   "id": "a7229286-c4b4-4168-bbe2-2ad89bb8fb04",
   "metadata": {},
   "outputs": [
    {
     "name": "stdout",
     "output_type": "stream",
     "text": [
      "30\n"
     ]
    }
   ],
   "source": [
    "def find_sum_of_even_numbers(numbers):\n",
    "    return sum(num for num in numbers if num % 2 == 0)\n",
    "\n",
    "# Example usage:\n",
    "numbers = [1, 2, 3, 4, 5, 6, 7, 8, 9, 10]\n",
    "sum_of_evens = find_sum_of_even_numbers(numbers)\n",
    "print(sum_of_evens)  # Output: 30\n"
   ]
  },
  {
   "cell_type": "code",
   "execution_count": null,
   "id": "9563cc2e-55af-4454-8138-79fbfd515d2b",
   "metadata": {},
   "outputs": [],
   "source": []
  },
  {
   "cell_type": "markdown",
   "id": "f3cbd5f8-ae3a-4e09-a5c0-b5f8c488cd7e",
   "metadata": {},
   "source": [
    "# 32"
   ]
  },
  {
   "cell_type": "code",
   "execution_count": 35,
   "id": "7e756f10-f917-4fe3-a9c3-64c513a0b463",
   "metadata": {},
   "outputs": [
    {
     "name": "stdout",
     "output_type": "stream",
     "text": [
      "8\n"
     ]
    }
   ],
   "source": [
    "def calculate_power(base, exponent):\n",
    "    if exponent == 0:\n",
    "        return 1\n",
    "    elif exponent < 0:\n",
    "        return 1 / calculate_power(base, -exponent)\n",
    "    elif exponent % 2 == 0:\n",
    "        temp = calculate_power(base, exponent // 2)\n",
    "        return temp * temp\n",
    "    else:\n",
    "        return base * calculate_power(base, exponent - 1)\n",
    "\n",
    "# Example usage:\n",
    "base = 2\n",
    "exponent = 3\n",
    "power = calculate_power(base, exponent)\n",
    "print(power)  # Output: 8\n"
   ]
  },
  {
   "cell_type": "code",
   "execution_count": null,
   "id": "6de83447-5945-47ea-a858-e68b15c557f5",
   "metadata": {},
   "outputs": [],
   "source": []
  },
  {
   "cell_type": "markdown",
   "id": "1a429cf8-2139-47c1-a966-aaa6bbb6a9ee",
   "metadata": {},
   "source": [
    "# 33"
   ]
  },
  {
   "cell_type": "code",
   "execution_count": 36,
   "id": "f81538b0-269f-4e16-a109-4dedfceeba84",
   "metadata": {},
   "outputs": [
    {
     "name": "stdout",
     "output_type": "stream",
     "text": [
      "[1, 2, 3, 4, 5]\n"
     ]
    }
   ],
   "source": [
    "def remove_duplicates_preserve_order(input_list):\n",
    "    unique_list = []\n",
    "    seen = set()\n",
    "\n",
    "    for item in input_list:\n",
    "        if item not in seen:\n",
    "            unique_list.append(item)\n",
    "            seen.add(item)\n",
    "\n",
    "    return unique_list\n",
    "\n",
    "# Example usage:\n",
    "numbers = [1, 2, 3, 2, 4, 3, 5]\n",
    "unique_numbers = remove_duplicates_preserve_order(numbers)\n",
    "print(unique_numbers)  # Output: [1, 2, 3, 4, 5]\n"
   ]
  },
  {
   "cell_type": "code",
   "execution_count": null,
   "id": "1efb73fd-c47b-4074-95cb-83f41046fadf",
   "metadata": {},
   "outputs": [],
   "source": []
  },
  {
   "cell_type": "markdown",
   "id": "a81c0ae2-1e80-45d8-a8d0-dbc501e48970",
   "metadata": {},
   "source": [
    "# 34"
   ]
  },
  {
   "cell_type": "code",
   "execution_count": 37,
   "id": "80f2ccd2-e8e9-4f99-a143-819378b0a3e9",
   "metadata": {},
   "outputs": [
    {
     "name": "stdout",
     "output_type": "stream",
     "text": [
      "fl\n"
     ]
    }
   ],
   "source": [
    "def find_longest_common_prefix(strings):\n",
    "    if not strings:\n",
    "        return \"\"\n",
    "\n",
    "    min_length = min(len(string) for string in strings)\n",
    "    longest_common_prefix = \"\"\n",
    "\n",
    "    for i in range(min_length):\n",
    "        char = strings[0][i]\n",
    "        if all(string[i] == char for string in strings):\n",
    "            longest_common_prefix += char\n",
    "        else:\n",
    "            break\n",
    "\n",
    "    return longest_common_prefix\n",
    "\n",
    "# Example usage:\n",
    "words = [\"flower\", \"flow\", \"flight\"]\n",
    "longest_prefix = find_longest_common_prefix(words)\n",
    "print(longest_prefix)  # Output: \"fl\"\n"
   ]
  },
  {
   "cell_type": "code",
   "execution_count": null,
   "id": "d4e4ea57-a942-4d4f-a330-b990b47f616f",
   "metadata": {},
   "outputs": [],
   "source": []
  },
  {
   "cell_type": "markdown",
   "id": "09ac90f2-21de-4cc2-944c-eb48e42acef4",
   "metadata": {},
   "source": [
    "# 35"
   ]
  },
  {
   "cell_type": "code",
   "execution_count": 38,
   "id": "011a440a-a77c-455b-a367-0a2eecb8ac96",
   "metadata": {},
   "outputs": [
    {
     "name": "stdout",
     "output_type": "stream",
     "text": [
      "True\n"
     ]
    }
   ],
   "source": [
    "def is_perfect_square(num):\n",
    "    if num < 0:\n",
    "        return False\n",
    "    root = int(num ** 0.5)\n",
    "    return root * root == num\n",
    "\n",
    "# Example usage:\n",
    "number = 25\n",
    "print(is_perfect_square(number))  # Output: True\n"
   ]
  },
  {
   "cell_type": "code",
   "execution_count": null,
   "id": "11f219b4-b034-404b-b190-785ee387c927",
   "metadata": {},
   "outputs": [],
   "source": []
  },
  {
   "cell_type": "markdown",
   "id": "187d6f89-317a-4dd0-b6e1-fbb022a883a1",
   "metadata": {},
   "source": [
    "# 36"
   ]
  },
  {
   "cell_type": "code",
   "execution_count": 39,
   "id": "d600acea-a499-4ada-a65c-c478b502d74f",
   "metadata": {},
   "outputs": [
    {
     "name": "stdout",
     "output_type": "stream",
     "text": [
      "120\n"
     ]
    }
   ],
   "source": [
    "from functools import reduce\n",
    "import operator\n",
    "\n",
    "def calculate_product(numbers):\n",
    "    return reduce(operator.mul, numbers, 1)\n",
    "\n",
    "# Example usage:\n",
    "numbers = [1, 2, 3, 4, 5]\n",
    "product = calculate_product(numbers)\n",
    "print(product)  # Output: 120\n"
   ]
  },
  {
   "cell_type": "code",
   "execution_count": null,
   "id": "e47561fc-5e63-44b6-879b-d365f768c481",
   "metadata": {},
   "outputs": [],
   "source": []
  },
  {
   "cell_type": "markdown",
   "id": "4283017b-c6ec-4ad9-b5b8-fc6931528a43",
   "metadata": {},
   "source": [
    "# 40"
   ]
  },
  {
   "cell_type": "code",
   "execution_count": 41,
   "id": "f036bd46-644f-4ab1-8d31-564a0078ee31",
   "metadata": {},
   "outputs": [
    {
     "name": "stdout",
     "output_type": "stream",
     "text": [
      "True\n"
     ]
    }
   ],
   "source": [
    "def is_valid_palindrome(input_str):\n",
    "    return input_str == input_str[::-1]\n",
    "\n",
    "# Example usage:\n",
    "string = \"level\"\n",
    "print(is_valid_palindrome(string))  # Output: True\n"
   ]
  },
  {
   "cell_type": "code",
   "execution_count": null,
   "id": "3fe519ee-2f28-4ecd-9a82-600c3b3e35a3",
   "metadata": {},
   "outputs": [],
   "source": []
  },
  {
   "cell_type": "markdown",
   "id": "1133fa1e-bdbb-4566-8b37-6183692f7ff8",
   "metadata": {},
   "source": [
    "# 41"
   ]
  },
  {
   "cell_type": "code",
   "execution_count": 42,
   "id": "e612436c-ad4c-4646-9658-7da04e33a140",
   "metadata": {},
   "outputs": [],
   "source": [
    "# errors"
   ]
  },
  {
   "cell_type": "markdown",
   "id": "e4527d3d-171e-4d66-b3ca-86aaf19a13f3",
   "metadata": {},
   "source": [
    "# 42"
   ]
  },
  {
   "cell_type": "code",
   "execution_count": 43,
   "id": "31387854-d8af-4472-82de-037de41ed56e",
   "metadata": {},
   "outputs": [],
   "source": [
    "# not done"
   ]
  },
  {
   "cell_type": "code",
   "execution_count": null,
   "id": "9245687a-64c2-4aac-825d-7c23bfeb4ce3",
   "metadata": {},
   "outputs": [],
   "source": []
  },
  {
   "cell_type": "markdown",
   "id": "3f588897-5cfc-4e35-9fd3-1b58a72e5c4e",
   "metadata": {},
   "source": [
    "# 38"
   ]
  },
  {
   "cell_type": "code",
   "execution_count": 44,
   "id": "44a1b785-72ed-4033-9bd6-d191abf3cde1",
   "metadata": {},
   "outputs": [
    {
     "name": "stdout",
     "output_type": "stream",
     "text": [
      "4\n"
     ]
    }
   ],
   "source": [
    "def find_missing_number(numbers):\n",
    "    n = len(numbers) + 1\n",
    "    total_sum = n * (n + 1) // 2\n",
    "    actual_sum = sum(numbers)\n",
    "    missing_number = total_sum - actual_sum\n",
    "    return missing_number\n",
    "\n",
    "# Example usage:\n",
    "numbers = [1, 2, 3, 5, 6]\n",
    "missing = find_missing_number(numbers)\n",
    "print(missing)  # Output: 4\n"
   ]
  },
  {
   "cell_type": "code",
   "execution_count": null,
   "id": "517ff642-373c-4e1d-a6c1-e50f5cab9e8f",
   "metadata": {},
   "outputs": [],
   "source": []
  },
  {
   "cell_type": "markdown",
   "id": "17c2d85f-87e0-4ec9-8a7b-89d0e42318ed",
   "metadata": {},
   "source": [
    "# 39"
   ]
  },
  {
   "cell_type": "code",
   "execution_count": 45,
   "id": "387ae929-a511-4091-83ae-c82cc5f843f9",
   "metadata": {},
   "outputs": [
    {
     "name": "stdout",
     "output_type": "stream",
     "text": [
      "15\n"
     ]
    }
   ],
   "source": [
    "def find_sum_of_digits(number):\n",
    "    num_str = str(number)\n",
    "    digit_sum = sum(int(digit) for digit in num_str)\n",
    "    return digit_sum\n",
    "\n",
    "# Example usage:\n",
    "num = 12345\n",
    "digit_sum = find_sum_of_digits(num)\n",
    "print(digit_sum)  # Output: 15\n"
   ]
  },
  {
   "cell_type": "code",
   "execution_count": null,
   "id": "1cec26ab-24a7-40ba-8376-fccdec941bc5",
   "metadata": {},
   "outputs": [],
   "source": []
  },
  {
   "cell_type": "code",
   "execution_count": null,
   "id": "34670de8-127e-40cb-838b-39b8609baaae",
   "metadata": {},
   "outputs": [],
   "source": []
  },
  {
   "cell_type": "code",
   "execution_count": null,
   "id": "e049a42c-d3ea-4e99-b004-58bb6ff636eb",
   "metadata": {},
   "outputs": [],
   "source": []
  },
  {
   "cell_type": "code",
   "execution_count": null,
   "id": "7b68c44c-5eb5-404a-b2e3-135318000f66",
   "metadata": {},
   "outputs": [],
   "source": []
  },
  {
   "cell_type": "code",
   "execution_count": null,
   "id": "c7155a33-76d2-4000-a9db-94a29732689d",
   "metadata": {},
   "outputs": [],
   "source": []
  },
  {
   "cell_type": "code",
   "execution_count": null,
   "id": "3a5aca8a-f624-4bc5-bd11-1d47f7c30fad",
   "metadata": {},
   "outputs": [],
   "source": []
  },
  {
   "cell_type": "code",
   "execution_count": null,
   "id": "99a7b902-6846-4e0f-bd23-8c5827a6c41c",
   "metadata": {},
   "outputs": [],
   "source": []
  },
  {
   "cell_type": "code",
   "execution_count": null,
   "id": "d18e5daf-3fbe-494e-8a36-887a1f78399f",
   "metadata": {},
   "outputs": [],
   "source": []
  },
  {
   "cell_type": "code",
   "execution_count": null,
   "id": "bcd996bd-7091-43be-b3e7-87da02b75e58",
   "metadata": {},
   "outputs": [],
   "source": []
  },
  {
   "cell_type": "code",
   "execution_count": null,
   "id": "1e951797-68b5-4a02-b9ad-f4a3c26c537a",
   "metadata": {},
   "outputs": [],
   "source": []
  },
  {
   "cell_type": "code",
   "execution_count": null,
   "id": "855c78d7-7999-453e-8aa4-dc6959672d92",
   "metadata": {},
   "outputs": [],
   "source": []
  },
  {
   "cell_type": "code",
   "execution_count": null,
   "id": "e4d46c12-1446-45e5-802b-530252ca8920",
   "metadata": {},
   "outputs": [],
   "source": []
  },
  {
   "cell_type": "code",
   "execution_count": null,
   "id": "d7d210b6-8d5f-41a7-a4c9-4f4ef8e6d28d",
   "metadata": {},
   "outputs": [],
   "source": []
  },
  {
   "cell_type": "code",
   "execution_count": null,
   "id": "ed73d8d8-8004-469f-b7b7-9e6f1ef2cb6e",
   "metadata": {},
   "outputs": [],
   "source": []
  },
  {
   "cell_type": "code",
   "execution_count": null,
   "id": "c06b33bd-3c21-4df2-92a8-566f47da8adf",
   "metadata": {},
   "outputs": [],
   "source": []
  },
  {
   "cell_type": "code",
   "execution_count": null,
   "id": "d03a6e7c-b05b-47ab-a2ee-087973100543",
   "metadata": {},
   "outputs": [],
   "source": []
  },
  {
   "cell_type": "code",
   "execution_count": null,
   "id": "01a4fabc-4bf2-4ccd-afa3-580d0db22731",
   "metadata": {},
   "outputs": [],
   "source": []
  },
  {
   "cell_type": "code",
   "execution_count": null,
   "id": "3bbee329-28af-4f60-a379-755cf883a620",
   "metadata": {},
   "outputs": [],
   "source": []
  },
  {
   "cell_type": "code",
   "execution_count": null,
   "id": "711adf61-b67b-495b-b0d4-86f3c6ca324d",
   "metadata": {},
   "outputs": [],
   "source": []
  },
  {
   "cell_type": "code",
   "execution_count": null,
   "id": "5e598a43-d044-4b0b-b4ba-2edb21f82f6f",
   "metadata": {},
   "outputs": [],
   "source": []
  },
  {
   "cell_type": "code",
   "execution_count": null,
   "id": "9b559ed8-d036-44de-a259-2cb798f20f00",
   "metadata": {},
   "outputs": [],
   "source": []
  },
  {
   "cell_type": "code",
   "execution_count": null,
   "id": "ca02825c-0749-482b-bbb8-933d52eea4b5",
   "metadata": {},
   "outputs": [],
   "source": []
  },
  {
   "cell_type": "code",
   "execution_count": null,
   "id": "101bc239-ca2a-4121-9df4-e75fbb811a8a",
   "metadata": {},
   "outputs": [],
   "source": []
  },
  {
   "cell_type": "code",
   "execution_count": null,
   "id": "8415c61d-6e25-4525-a0b0-1c9c5e76410e",
   "metadata": {},
   "outputs": [],
   "source": []
  },
  {
   "cell_type": "code",
   "execution_count": null,
   "id": "023ba2a6-8177-46fe-b246-1f1501ae99bd",
   "metadata": {},
   "outputs": [],
   "source": []
  },
  {
   "cell_type": "code",
   "execution_count": null,
   "id": "8a8d4f55-13b4-45f3-b097-0e63b0c91780",
   "metadata": {},
   "outputs": [],
   "source": []
  },
  {
   "cell_type": "code",
   "execution_count": null,
   "id": "89168228-f284-4bcb-b891-de5239ca3d76",
   "metadata": {},
   "outputs": [],
   "source": []
  },
  {
   "cell_type": "code",
   "execution_count": null,
   "id": "494e94c2-3923-4290-ba5b-decdf5400ac4",
   "metadata": {},
   "outputs": [],
   "source": []
  },
  {
   "cell_type": "code",
   "execution_count": null,
   "id": "ae8ec100-ad13-4220-8302-abd1847267ab",
   "metadata": {},
   "outputs": [],
   "source": []
  },
  {
   "cell_type": "code",
   "execution_count": null,
   "id": "66d445fa-cebe-44e5-be58-a5f6f91c0523",
   "metadata": {},
   "outputs": [],
   "source": []
  },
  {
   "cell_type": "code",
   "execution_count": null,
   "id": "676cc7b4-c9d6-413f-b0d2-b7dac83f9bb0",
   "metadata": {},
   "outputs": [],
   "source": []
  },
  {
   "cell_type": "code",
   "execution_count": null,
   "id": "b849418f-00cf-4d5b-b33e-b38feb9a6a9d",
   "metadata": {},
   "outputs": [],
   "source": []
  },
  {
   "cell_type": "code",
   "execution_count": null,
   "id": "588dc6f8-0859-4139-a0df-8f99485ad389",
   "metadata": {},
   "outputs": [],
   "source": []
  },
  {
   "cell_type": "code",
   "execution_count": null,
   "id": "9cad45af-48c6-4a40-843a-3fe3b208081b",
   "metadata": {},
   "outputs": [],
   "source": []
  },
  {
   "cell_type": "code",
   "execution_count": null,
   "id": "8325cef4-2549-42ab-a2a8-489e992c40a2",
   "metadata": {},
   "outputs": [],
   "source": []
  },
  {
   "cell_type": "code",
   "execution_count": null,
   "id": "2d1a4518-eea8-422a-afe0-cc6fe0140404",
   "metadata": {},
   "outputs": [],
   "source": []
  },
  {
   "cell_type": "code",
   "execution_count": null,
   "id": "86d3e793-d0d3-44d1-8579-339f60e46ef4",
   "metadata": {},
   "outputs": [],
   "source": []
  },
  {
   "cell_type": "code",
   "execution_count": null,
   "id": "cf1782dc-7cbb-43b2-8a4b-e03859fc582a",
   "metadata": {},
   "outputs": [],
   "source": []
  },
  {
   "cell_type": "code",
   "execution_count": null,
   "id": "ead52c4e-057a-4a42-a5f6-07a62a209b92",
   "metadata": {},
   "outputs": [],
   "source": []
  },
  {
   "cell_type": "code",
   "execution_count": null,
   "id": "2d72c090-1d41-4657-bdd0-11befa3548f1",
   "metadata": {},
   "outputs": [],
   "source": []
  },
  {
   "cell_type": "code",
   "execution_count": null,
   "id": "d18ea6a3-30ce-407c-895f-b31885934705",
   "metadata": {},
   "outputs": [],
   "source": []
  },
  {
   "cell_type": "code",
   "execution_count": null,
   "id": "68e890bf-ce38-41d3-8762-58670eaed040",
   "metadata": {},
   "outputs": [],
   "source": []
  },
  {
   "cell_type": "code",
   "execution_count": null,
   "id": "5fe99055-1eb3-49a6-8f08-84fa46e9e136",
   "metadata": {},
   "outputs": [],
   "source": []
  }
 ],
 "metadata": {
  "kernelspec": {
   "display_name": "Python 3 (ipykernel)",
   "language": "python",
   "name": "python3"
  },
  "language_info": {
   "codemirror_mode": {
    "name": "ipython",
    "version": 3
   },
   "file_extension": ".py",
   "mimetype": "text/x-python",
   "name": "python",
   "nbconvert_exporter": "python",
   "pygments_lexer": "ipython3",
   "version": "3.10.6"
  }
 },
 "nbformat": 4,
 "nbformat_minor": 5
}
